{
 "cells": [
  {
   "cell_type": "code",
   "execution_count": 1,
   "metadata": {
    "collapsed": true
   },
   "outputs": [],
   "source": [
    "#『詳解ディープラーニング』より引用のロジスティック回帰コード（多クラス分類）の解説メモ　自分用"
   ]
  },
  {
   "cell_type": "code",
   "execution_count": 3,
   "metadata": {
    "collapsed": true
   },
   "outputs": [],
   "source": [
    "import numpy as np\n",
    "from sklearn.utils import shuffle"
   ]
  },
  {
   "cell_type": "code",
   "execution_count": 96,
   "metadata": {
    "collapsed": true
   },
   "outputs": [],
   "source": [
    "M = 2\n",
    "K = 3\n",
    "n = 100\n",
    "N = n * K\n",
    "X1 = np.random.randn(n, M) + np.array([0, 10])\n",
    "X2 = np.random.randn(n, M) + np.array([5, 5])\n",
    "X3 = np.random.randn(n, M) + np.array([10, 0])\n",
    "Y1 = np.array([[1, 0, 0] for i in range(n)])\n",
    "Y2 = np.array([[0, 1, 0] for i in range(n)])\n",
    "Y3 = np.array([[0, 0, 1] for i in range(n)])\n",
    "X = np.concatenate((X1, X2, X3), axis = 0)\n",
    "Y = np.concatenate((Y1, Y2, Y3), axis = 0)"
   ]
  },
  {
   "cell_type": "code",
   "execution_count": 97,
   "metadata": {
    "collapsed": true
   },
   "outputs": [],
   "source": [
    "import matplotlib.pyplot as plt\n",
    "%matplotlib inline"
   ]
  },
  {
   "cell_type": "code",
   "execution_count": 98,
   "metadata": {
    "collapsed": false
   },
   "outputs": [
    {
     "name": "stderr",
     "output_type": "stream",
     "text": [
      "/Users/enc/.pyenv/versions/3.5.2/lib/python3.5/site-packages/matplotlib/figure.py:397: UserWarning: matplotlib is currently using a non-GUI backend, so cannot show the figure\n",
      "  \"matplotlib is currently using a non-GUI backend, \"\n"
     ]
    },
    {
     "data": {
      "image/png": "[encoded data removed]",
      "text/plain": [
       "<matplotlib.figure.Figure at 0x10e1e2978>"
      ]
     },
     "metadata": {},
     "output_type": "display_data"
    }
   ],
   "source": [
    "fig = plt.figure()\n",
    "ax = fig.add_subplot(1,1,1)\n",
    "ax.scatter(X[:,0],X[:,1])\n",
    "ax.set_title('scatter plot')\n",
    "fig.show()"
   ]
  },
  {
   "cell_type": "code",
   "execution_count": 99,
   "metadata": {
    "collapsed": true
   },
   "outputs": [],
   "source": [
    "import tensorflow as tf\n",
    "import numpy as np"
   ]
  },
  {
   "cell_type": "code",
   "execution_count": 100,
   "metadata": {
    "collapsed": true
   },
   "outputs": [],
   "source": [
    "w = tf.Variable(tf.zeros([M,K]))\n",
    "b = tf.Variable(tf.zeros([K]))"
   ]
  },
  {
   "cell_type": "code",
   "execution_count": 101,
   "metadata": {
    "collapsed": true
   },
   "outputs": [],
   "source": [
    "#↑二値問題のときは↓のように記述していたのが改訂されている\n",
    "#w = tf.Variable(tf.zeros([2,1]))\n",
    "#b = tf.Variable(tf.zeros([1]))"
   ]
  },
  {
   "cell_type": "code",
   "execution_count": 102,
   "metadata": {
    "collapsed": true
   },
   "outputs": [],
   "source": [
    "x = tf.placeholder(tf.float32, shape=[None, M])\n",
    "t = tf.placeholder(tf.float32, shape=[None, K])\n",
    "y = tf.nn.softmax(tf.matmul(x, w) + b )"
   ]
  },
  {
   "cell_type": "code",
   "execution_count": 103,
   "metadata": {
    "collapsed": true
   },
   "outputs": [],
   "source": [
    "#↑二値問題のときは↓のように記述していたのが改訂されている\n",
    "#変更点１：outputが１→Kになったので変化した\n",
    "#変更点2：シグモイド関数がソフトマックス関数に置き換わった\n",
    "#x = tf.placeholder(tf.float32, shape=[None, 2])\n",
    "#t = tf.placeholder(tf.float32, shape=[None, 2])\n",
    "#y = tf.nn.sigmoid(tf.matmul(x, w) + b )"
   ]
  },
  {
   "cell_type": "code",
   "execution_count": 104,
   "metadata": {
    "collapsed": true
   },
   "outputs": [],
   "source": [
    "cross_entropy = tf.reduce_mean(-tf.reduce_sum(t * tf.log(y),reduction_indices=[1]))"
   ]
  },
  {
   "cell_type": "code",
   "execution_count": 116,
   "metadata": {
    "collapsed": true
   },
   "outputs": [],
   "source": [
    "#↑コスト関数。大分違うので数式を要チェック　ミニバッチ学習なので、meanを入れている"
   ]
  },
  {
   "cell_type": "code",
   "execution_count": 106,
   "metadata": {
    "collapsed": true
   },
   "outputs": [],
   "source": [
    "train_step = tf.train.GradientDescentOptimizer(0.1).minimize(cross_entropy)"
   ]
  },
  {
   "cell_type": "code",
   "execution_count": 117,
   "metadata": {
    "collapsed": true
   },
   "outputs": [],
   "source": [
    "#↑コスト関数をミニバッチによる勾配降下法で重みを最適化"
   ]
  },
  {
   "cell_type": "code",
   "execution_count": 107,
   "metadata": {
    "collapsed": false
   },
   "outputs": [],
   "source": [
    "prediction = tf.equal(tf.argmax(y, 1), tf.argmax(t, 1))"
   ]
  },
  {
   "cell_type": "code",
   "execution_count": 115,
   "metadata": {
    "collapsed": true
   },
   "outputs": [],
   "source": [
    "#↑prediction = tf.equal(tf.argmax(y, 1), tf.argmax(t, 1))から両方の出力値が同じならTrue、違うならFalseを吐き出す"
   ]
  },
  {
   "cell_type": "code",
   "execution_count": 118,
   "metadata": {
    "collapsed": true
   },
   "outputs": [],
   "source": [
    "#↓ミニバッチのサイズ"
   ]
  },
  {
   "cell_type": "code",
   "execution_count": 108,
   "metadata": {
    "collapsed": true
   },
   "outputs": [],
   "source": [
    "batch_size = 50\n",
    "n_batches = N"
   ]
  },
  {
   "cell_type": "code",
   "execution_count": 119,
   "metadata": {
    "collapsed": true
   },
   "outputs": [],
   "source": [
    "#↓tensor flowを動かす初期化"
   ]
  },
  {
   "cell_type": "code",
   "execution_count": 109,
   "metadata": {
    "collapsed": true
   },
   "outputs": [],
   "source": [
    "init = tf.global_variables_initializer()\n",
    "sess = tf.Session()\n",
    "sess.run(init)"
   ]
  },
  {
   "cell_type": "code",
   "execution_count": 113,
   "metadata": {
    "collapsed": true
   },
   "outputs": [],
   "source": [
    "#↓学習プロセス。\n",
    "#sess.run(train_step(最適化された重み), feed_dict={x:X_[start:end],t:Y_[start:end]})（入れ込む値、ラベルデータ）"
   ]
  },
  {
   "cell_type": "code",
   "execution_count": 110,
   "metadata": {
    "collapsed": false
   },
   "outputs": [
    {
     "name": "stdout",
     "output_type": "stream",
     "text": [
      "epoch0 finished\n",
      "epoch1 finished\n",
      "epoch2 finished\n",
      "epoch3 finished\n",
      "epoch4 finished\n",
      "epoch5 finished\n",
      "epoch6 finished\n",
      "epoch7 finished\n",
      "epoch8 finished\n",
      "epoch9 finished\n",
      "epoch10 finished\n",
      "epoch11 finished\n",
      "epoch12 finished\n",
      "epoch13 finished\n",
      "epoch14 finished\n",
      "epoch15 finished\n",
      "epoch16 finished\n",
      "epoch17 finished\n",
      "epoch18 finished\n",
      "epoch19 finished\n",
      "epoch20 finished\n",
      "epoch21 finished\n",
      "epoch22 finished\n",
      "epoch23 finished\n",
      "epoch24 finished\n",
      "epoch25 finished\n",
      "epoch26 finished\n",
      "epoch27 finished\n",
      "epoch28 finished\n",
      "epoch29 finished\n",
      "epoch30 finished\n",
      "epoch31 finished\n",
      "epoch32 finished\n",
      "epoch33 finished\n",
      "epoch34 finished\n",
      "epoch35 finished\n",
      "epoch36 finished\n",
      "epoch37 finished\n",
      "epoch38 finished\n",
      "epoch39 finished\n",
      "epoch40 finished\n",
      "epoch41 finished\n",
      "epoch42 finished\n",
      "epoch43 finished\n",
      "epoch44 finished\n",
      "epoch45 finished\n",
      "epoch46 finished\n",
      "epoch47 finished\n",
      "epoch48 finished\n",
      "epoch49 finished\n",
      "epoch50 finished\n",
      "epoch51 finished\n",
      "epoch52 finished\n",
      "epoch53 finished\n",
      "epoch54 finished\n",
      "epoch55 finished\n",
      "epoch56 finished\n",
      "epoch57 finished\n",
      "epoch58 finished\n",
      "epoch59 finished\n",
      "epoch60 finished\n",
      "epoch61 finished\n",
      "epoch62 finished\n",
      "epoch63 finished\n",
      "epoch64 finished\n",
      "epoch65 finished\n",
      "epoch66 finished\n",
      "epoch67 finished\n",
      "epoch68 finished\n",
      "epoch69 finished\n",
      "epoch70 finished\n",
      "epoch71 finished\n",
      "epoch72 finished\n",
      "epoch73 finished\n",
      "epoch74 finished\n",
      "epoch75 finished\n",
      "epoch76 finished\n",
      "epoch77 finished\n",
      "epoch78 finished\n",
      "epoch79 finished\n",
      "epoch80 finished\n",
      "epoch81 finished\n",
      "epoch82 finished\n",
      "epoch83 finished\n",
      "epoch84 finished\n",
      "epoch85 finished\n",
      "epoch86 finished\n",
      "epoch87 finished\n",
      "epoch88 finished\n",
      "epoch89 finished\n",
      "epoch90 finished\n",
      "epoch91 finished\n",
      "epoch92 finished\n",
      "epoch93 finished\n",
      "epoch94 finished\n",
      "epoch95 finished\n",
      "epoch96 finished\n",
      "epoch97 finished\n",
      "epoch98 finished\n",
      "epoch99 finished\n"
     ]
    }
   ],
   "source": [
    "for epoch in range(100):\n",
    "    X_, Y_ = shuffle(X, Y)\n",
    "\n",
    "    for i in range(n_batches):\n",
    "        start = i * batch_size\n",
    "        end = start + batch_size\n",
    "        sess.run(train_step, feed_dict={x:X_[start:end],t:Y_[start:end]})\n",
    "    \n",
    "    print(\"epoch{} finished\".format(epoch))\n",
    "        "
   ]
  },
  {
   "cell_type": "code",
   "execution_count": 111,
   "metadata": {
    "collapsed": false
   },
   "outputs": [
    {
     "name": "stdout",
     "output_type": "stream",
     "text": [
      "classified:\n",
      "[ True  True  True  True  True  True  True  True  True  True]\n",
      "\n",
      "output probability:\n",
      "[[  5.88661533e-05   9.91878867e-01   8.06227978e-03]\n",
      " [  9.48813260e-01   5.11867069e-02   6.18223084e-10]\n",
      " [  9.18499768e-01   8.15002322e-02   2.80233028e-08]\n",
      " [  6.12738892e-04   9.98098195e-01   1.28907408e-03]\n",
      " [  3.07123847e-14   6.34334865e-04   9.99365628e-01]\n",
      " [  9.93924916e-01   6.07509166e-03   1.22011498e-10]\n",
      " [  2.21772456e-16   4.17987394e-05   9.99958158e-01]\n",
      " [  2.51425446e-15   6.65655898e-05   9.99933481e-01]\n",
      " [  1.64240468e-02   9.83123899e-01   4.52042907e-04]\n",
      " [  1.38538313e-12   5.35984116e-04   9.99463975e-01]]\n"
     ]
    }
   ],
   "source": [
    "X_, Y_ = shuffle(X, Y)\n",
    "\n",
    "classified = prediction.eval(session=sess, feed_dict={\n",
    "    x: X_[0:10],\n",
    "    t: Y_[0:10]\n",
    "})\n",
    "prob = y.eval(session=sess, feed_dict={\n",
    "    x: X_[0:10]\n",
    "})\n",
    "\n",
    "print('classified:')\n",
    "print(classified)\n",
    "print()\n",
    "print('output probability:')\n",
    "print(prob)"
   ]
  },
  {
   "cell_type": "code",
   "execution_count": 112,
   "metadata": {
    "collapsed": false
   },
   "outputs": [],
   "source": [
    "#prediction = tf.equal(tf.argmax(y, 1), tf.argmax(t, 1))から両方の出力値が同じならTrue、違うならFalseを吐き出す"
   ]
  },
  {
   "cell_type": "code",
   "execution_count": null,
   "metadata": {
    "collapsed": true
   },
   "outputs": [],
   "source": []
  }
 ],
 "metadata": {
  "kernelspec": {
   "display_name": "Python 3",
   "language": "python",
   "name": "python3"
  },
  "language_info": {
   "codemirror_mode": {
    "name": "ipython",
    "version": 3
   },
   "file_extension": ".py",
   "mimetype": "text/x-python",
   "name": "python",
   "nbconvert_exporter": "python",
   "pygments_lexer": "ipython3",
   "version": "3.5.2"
  }
 },
 "nbformat": 4,
 "nbformat_minor": 1
}
