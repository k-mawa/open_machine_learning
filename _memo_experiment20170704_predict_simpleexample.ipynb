{
 "cells": [
  {
   "cell_type": "code",
   "execution_count": 1,
   "metadata": {
    "collapsed": true
   },
   "outputs": [],
   "source": [
    "import numpy as np\n",
    "from sklearn.model_selection import train_test_split\n",
    "import pandas as pd"
   ]
  },
  {
   "cell_type": "code",
   "execution_count": 2,
   "metadata": {
    "collapsed": true
   },
   "outputs": [],
   "source": [
    "data = pd.read_csv(\"test/simpletest.csv\", header=None)"
   ]
  },
  {
   "cell_type": "code",
   "execution_count": 3,
   "metadata": {
    "collapsed": false
   },
   "outputs": [
    {
     "data": {
      "text/html": [
       "<div>\n",
       "<table border=\"1\" class=\"dataframe\">\n",
       "  <thead>\n",
       "    <tr style=\"text-align: right;\">\n",
       "      <th></th>\n",
       "      <th>0</th>\n",
       "      <th>1</th>\n",
       "      <th>2</th>\n",
       "      <th>3</th>\n",
       "      <th>4</th>\n",
       "      <th>5</th>\n",
       "      <th>6</th>\n",
       "      <th>7</th>\n",
       "    </tr>\n",
       "  </thead>\n",
       "  <tbody>\n",
       "    <tr>\n",
       "      <th>0</th>\n",
       "      <td>90</td>\n",
       "      <td>89</td>\n",
       "      <td>80</td>\n",
       "      <td>70</td>\n",
       "      <td>90</td>\n",
       "      <td>95</td>\n",
       "      <td>70</td>\n",
       "      <td>500</td>\n",
       "    </tr>\n",
       "    <tr>\n",
       "      <th>1</th>\n",
       "      <td>50</td>\n",
       "      <td>65</td>\n",
       "      <td>70</td>\n",
       "      <td>75</td>\n",
       "      <td>88</td>\n",
       "      <td>90</td>\n",
       "      <td>80</td>\n",
       "      <td>450</td>\n",
       "    </tr>\n",
       "    <tr>\n",
       "      <th>2</th>\n",
       "      <td>100</td>\n",
       "      <td>100</td>\n",
       "      <td>100</td>\n",
       "      <td>100</td>\n",
       "      <td>100</td>\n",
       "      <td>100</td>\n",
       "      <td>100</td>\n",
       "      <td>700</td>\n",
       "    </tr>\n",
       "    <tr>\n",
       "      <th>3</th>\n",
       "      <td>90</td>\n",
       "      <td>90</td>\n",
       "      <td>90</td>\n",
       "      <td>90</td>\n",
       "      <td>90</td>\n",
       "      <td>90</td>\n",
       "      <td>90</td>\n",
       "      <td>650</td>\n",
       "    </tr>\n",
       "    <tr>\n",
       "      <th>4</th>\n",
       "      <td>80</td>\n",
       "      <td>80</td>\n",
       "      <td>80</td>\n",
       "      <td>80</td>\n",
       "      <td>80</td>\n",
       "      <td>80</td>\n",
       "      <td>80</td>\n",
       "      <td>600</td>\n",
       "    </tr>\n",
       "    <tr>\n",
       "      <th>5</th>\n",
       "      <td>70</td>\n",
       "      <td>70</td>\n",
       "      <td>70</td>\n",
       "      <td>70</td>\n",
       "      <td>70</td>\n",
       "      <td>70</td>\n",
       "      <td>70</td>\n",
       "      <td>550</td>\n",
       "    </tr>\n",
       "    <tr>\n",
       "      <th>6</th>\n",
       "      <td>60</td>\n",
       "      <td>60</td>\n",
       "      <td>60</td>\n",
       "      <td>60</td>\n",
       "      <td>60</td>\n",
       "      <td>60</td>\n",
       "      <td>60</td>\n",
       "      <td>500</td>\n",
       "    </tr>\n",
       "    <tr>\n",
       "      <th>7</th>\n",
       "      <td>50</td>\n",
       "      <td>50</td>\n",
       "      <td>50</td>\n",
       "      <td>50</td>\n",
       "      <td>50</td>\n",
       "      <td>50</td>\n",
       "      <td>50</td>\n",
       "      <td>450</td>\n",
       "    </tr>\n",
       "    <tr>\n",
       "      <th>8</th>\n",
       "      <td>40</td>\n",
       "      <td>40</td>\n",
       "      <td>40</td>\n",
       "      <td>40</td>\n",
       "      <td>40</td>\n",
       "      <td>40</td>\n",
       "      <td>40</td>\n",
       "      <td>400</td>\n",
       "    </tr>\n",
       "    <tr>\n",
       "      <th>9</th>\n",
       "      <td>30</td>\n",
       "      <td>30</td>\n",
       "      <td>30</td>\n",
       "      <td>30</td>\n",
       "      <td>30</td>\n",
       "      <td>30</td>\n",
       "      <td>30</td>\n",
       "      <td>350</td>\n",
       "    </tr>\n",
       "    <tr>\n",
       "      <th>10</th>\n",
       "      <td>20</td>\n",
       "      <td>20</td>\n",
       "      <td>20</td>\n",
       "      <td>20</td>\n",
       "      <td>20</td>\n",
       "      <td>20</td>\n",
       "      <td>20</td>\n",
       "      <td>300</td>\n",
       "    </tr>\n",
       "    <tr>\n",
       "      <th>11</th>\n",
       "      <td>10</td>\n",
       "      <td>10</td>\n",
       "      <td>10</td>\n",
       "      <td>10</td>\n",
       "      <td>10</td>\n",
       "      <td>10</td>\n",
       "      <td>10</td>\n",
       "      <td>250</td>\n",
       "    </tr>\n",
       "    <tr>\n",
       "      <th>12</th>\n",
       "      <td>0</td>\n",
       "      <td>0</td>\n",
       "      <td>0</td>\n",
       "      <td>0</td>\n",
       "      <td>0</td>\n",
       "      <td>0</td>\n",
       "      <td>0</td>\n",
       "      <td>200</td>\n",
       "    </tr>\n",
       "    <tr>\n",
       "      <th>13</th>\n",
       "      <td>70</td>\n",
       "      <td>75</td>\n",
       "      <td>80</td>\n",
       "      <td>90</td>\n",
       "      <td>70</td>\n",
       "      <td>55</td>\n",
       "      <td>55</td>\n",
       "      <td>500</td>\n",
       "    </tr>\n",
       "    <tr>\n",
       "      <th>14</th>\n",
       "      <td>88</td>\n",
       "      <td>78</td>\n",
       "      <td>68</td>\n",
       "      <td>58</td>\n",
       "      <td>78</td>\n",
       "      <td>80</td>\n",
       "      <td>90</td>\n",
       "      <td>480</td>\n",
       "    </tr>\n",
       "    <tr>\n",
       "      <th>15</th>\n",
       "      <td>90</td>\n",
       "      <td>40</td>\n",
       "      <td>30</td>\n",
       "      <td>20</td>\n",
       "      <td>10</td>\n",
       "      <td>10</td>\n",
       "      <td>10</td>\n",
       "      <td>300</td>\n",
       "    </tr>\n",
       "    <tr>\n",
       "      <th>16</th>\n",
       "      <td>5</td>\n",
       "      <td>5</td>\n",
       "      <td>5</td>\n",
       "      <td>5</td>\n",
       "      <td>5</td>\n",
       "      <td>5</td>\n",
       "      <td>5</td>\n",
       "      <td>230</td>\n",
       "    </tr>\n",
       "    <tr>\n",
       "      <th>17</th>\n",
       "      <td>30</td>\n",
       "      <td>30</td>\n",
       "      <td>34</td>\n",
       "      <td>70</td>\n",
       "      <td>70</td>\n",
       "      <td>85</td>\n",
       "      <td>90</td>\n",
       "      <td>400</td>\n",
       "    </tr>\n",
       "    <tr>\n",
       "      <th>18</th>\n",
       "      <td>50</td>\n",
       "      <td>80</td>\n",
       "      <td>90</td>\n",
       "      <td>80</td>\n",
       "      <td>90</td>\n",
       "      <td>100</td>\n",
       "      <td>50</td>\n",
       "      <td>500</td>\n",
       "    </tr>\n",
       "    <tr>\n",
       "      <th>19</th>\n",
       "      <td>80</td>\n",
       "      <td>80</td>\n",
       "      <td>80</td>\n",
       "      <td>80</td>\n",
       "      <td>65</td>\n",
       "      <td>75</td>\n",
       "      <td>89</td>\n",
       "      <td>550</td>\n",
       "    </tr>\n",
       "    <tr>\n",
       "      <th>20</th>\n",
       "      <td>100</td>\n",
       "      <td>90</td>\n",
       "      <td>30</td>\n",
       "      <td>70</td>\n",
       "      <td>80</td>\n",
       "      <td>80</td>\n",
       "      <td>40</td>\n",
       "      <td>500</td>\n",
       "    </tr>\n",
       "  </tbody>\n",
       "</table>\n",
       "</div>"
      ],
      "text/plain": [
       "      0    1    2    3    4    5    6    7\n",
       "0    90   89   80   70   90   95   70  500\n",
       "1    50   65   70   75   88   90   80  450\n",
       "2   100  100  100  100  100  100  100  700\n",
       "3    90   90   90   90   90   90   90  650\n",
       "4    80   80   80   80   80   80   80  600\n",
       "5    70   70   70   70   70   70   70  550\n",
       "6    60   60   60   60   60   60   60  500\n",
       "7    50   50   50   50   50   50   50  450\n",
       "8    40   40   40   40   40   40   40  400\n",
       "9    30   30   30   30   30   30   30  350\n",
       "10   20   20   20   20   20   20   20  300\n",
       "11   10   10   10   10   10   10   10  250\n",
       "12    0    0    0    0    0    0    0  200\n",
       "13   70   75   80   90   70   55   55  500\n",
       "14   88   78   68   58   78   80   90  480\n",
       "15   90   40   30   20   10   10   10  300\n",
       "16    5    5    5    5    5    5    5  230\n",
       "17   30   30   34   70   70   85   90  400\n",
       "18   50   80   90   80   90  100   50  500\n",
       "19   80   80   80   80   65   75   89  550\n",
       "20  100   90   30   70   80   80   40  500"
      ]
     },
     "execution_count": 3,
     "metadata": {},
     "output_type": "execute_result"
    }
   ],
   "source": [
    "data"
   ]
  },
  {
   "cell_type": "code",
   "execution_count": 5,
   "metadata": {
    "collapsed": false
   },
   "outputs": [
    {
     "data": {
      "text/plain": [
       "array([[ 90,  89,  80,  70,  90,  95,  70],\n",
       "       [ 50,  65,  70,  75,  88,  90,  80],\n",
       "       [100, 100, 100, 100, 100, 100, 100],\n",
       "       [ 90,  90,  90,  90,  90,  90,  90],\n",
       "       [ 80,  80,  80,  80,  80,  80,  80],\n",
       "       [ 70,  70,  70,  70,  70,  70,  70],\n",
       "       [ 60,  60,  60,  60,  60,  60,  60],\n",
       "       [ 50,  50,  50,  50,  50,  50,  50],\n",
       "       [ 40,  40,  40,  40,  40,  40,  40],\n",
       "       [ 30,  30,  30,  30,  30,  30,  30],\n",
       "       [ 20,  20,  20,  20,  20,  20,  20],\n",
       "       [ 10,  10,  10,  10,  10,  10,  10],\n",
       "       [  0,   0,   0,   0,   0,   0,   0],\n",
       "       [ 70,  75,  80,  90,  70,  55,  55],\n",
       "       [ 88,  78,  68,  58,  78,  80,  90],\n",
       "       [ 90,  40,  30,  20,  10,  10,  10],\n",
       "       [  5,   5,   5,   5,   5,   5,   5],\n",
       "       [ 30,  30,  34,  70,  70,  85,  90],\n",
       "       [ 50,  80,  90,  80,  90, 100,  50],\n",
       "       [ 80,  80,  80,  80,  65,  75,  89],\n",
       "       [100,  90,  30,  70,  80,  80,  40]])"
      ]
     },
     "execution_count": 5,
     "metadata": {},
     "output_type": "execute_result"
    }
   ],
   "source": [
    "X = data.iloc[:,0:7]\n",
    "X = X.values\n",
    "X"
   ]
  },
  {
   "cell_type": "code",
   "execution_count": 6,
   "metadata": {
    "collapsed": false
   },
   "outputs": [
    {
     "data": {
      "text/plain": [
       "array([500, 450, 700, 650, 600, 550, 500, 450, 400, 350, 300, 250, 200,\n",
       "       500, 480, 300, 230, 400, 500, 550, 500])"
      ]
     },
     "execution_count": 6,
     "metadata": {},
     "output_type": "execute_result"
    }
   ],
   "source": [
    "Y = data.iloc[:,7]\n",
    "Y = Y.values\n",
    "Y"
   ]
  },
  {
   "cell_type": "code",
   "execution_count": 7,
   "metadata": {
    "collapsed": true
   },
   "outputs": [],
   "source": [
    "X_train, X_test, Y_train, Y_test = train_test_split(X, Y, train_size=0.8)"
   ]
  },
  {
   "cell_type": "code",
   "execution_count": 8,
   "metadata": {
    "collapsed": false
   },
   "outputs": [
    {
     "name": "stdout",
     "output_type": "stream",
     "text": [
      "X_train:(16, 7)\n",
      "X_test:(5, 7)\n",
      "Y_train:(16,)\n",
      "Y_test:(5,)\n"
     ]
    }
   ],
   "source": [
    "print(\"X_train:{}\".format(X_train.shape))\n",
    "print(\"X_test:{}\".format(X_test.shape))\n",
    "print(\"Y_train:{}\".format(Y_train.shape))\n",
    "print(\"Y_test:{}\".format(Y_test.shape))"
   ]
  },
  {
   "cell_type": "code",
   "execution_count": 18,
   "metadata": {
    "collapsed": false
   },
   "outputs": [],
   "source": [
    "from keras.models import Sequential\n",
    "from keras.layers.core import Dense, Activation, Dropout\n",
    "from keras.layers.advanced_activations import PReLU\n",
    "from keras.optimizers import SGD"
   ]
  },
  {
   "cell_type": "code",
   "execution_count": 19,
   "metadata": {
    "collapsed": true
   },
   "outputs": [],
   "source": [
    "n_in = len(X[0])\n",
    "n_hidden = 200\n",
    "n_out = 1"
   ]
  },
  {
   "cell_type": "code",
   "execution_count": 23,
   "metadata": {
    "collapsed": false
   },
   "outputs": [],
   "source": [
    "model = Sequential()\n",
    "model.add(Dense(n_hidden, input_dim=n_in))\n",
    "model.add(Activation('relu'))\n",
    "model.add(Dropout(0.5))\n",
    "\n",
    "model.add(Dense(n_hidden))\n",
    "model.add(Activation('relu'))\n",
    "model.add(Dropout(0.5))\n",
    "\n",
    "model.add(Dense(n_out))\n",
    "\n",
    "model.compile(optimizer='rmsprop',\n",
    "              loss='mse')"
   ]
  },
  {
   "cell_type": "code",
   "execution_count": 24,
   "metadata": {
    "collapsed": true
   },
   "outputs": [],
   "source": [
    "epochs = 100\n",
    "batch_size = 1"
   ]
  },
  {
   "cell_type": "code",
   "execution_count": 25,
   "metadata": {
    "collapsed": false
   },
   "outputs": [
    {
     "name": "stdout",
     "output_type": "stream",
     "text": [
      "Epoch 1/100\n",
      "16/16 [==============================] - 0s - loss: 168637.5945    \n",
      "Epoch 2/100\n",
      "16/16 [==============================] - 0s - loss: 104160.6616    \n",
      "Epoch 3/100\n",
      "16/16 [==============================] - 0s - loss: 33503.3411     \n",
      "Epoch 4/100\n",
      "16/16 [==============================] - 0s - loss: 27229.9094     \n",
      "Epoch 5/100\n",
      "16/16 [==============================] - 0s - loss: 19452.6178     \n",
      "Epoch 6/100\n",
      "16/16 [==============================] - 0s - loss: 21420.1192    \n",
      "Epoch 7/100\n",
      "16/16 [==============================] - 0s - loss: 18976.2674   \n",
      "Epoch 8/100\n",
      "16/16 [==============================] - 0s - loss: 29083.2632     \n",
      "Epoch 9/100\n",
      "16/16 [==============================] - 0s - loss: 17553.4032   \n",
      "Epoch 10/100\n",
      "16/16 [==============================] - 0s - loss: 19792.3307    \n",
      "Epoch 11/100\n",
      "16/16 [==============================] - 0s - loss: 16239.5168     \n",
      "Epoch 12/100\n",
      "16/16 [==============================] - 0s - loss: 19170.4650     \n",
      "Epoch 13/100\n",
      "16/16 [==============================] - 0s - loss: 15149.2478     \n",
      "Epoch 14/100\n",
      "16/16 [==============================] - 0s - loss: 17568.9151     \n",
      "Epoch 15/100\n",
      "16/16 [==============================] - 0s - loss: 14501.0605  \n",
      "Epoch 16/100\n",
      "16/16 [==============================] - 0s - loss: 17243.9231     \n",
      "Epoch 17/100\n",
      "16/16 [==============================] - 0s - loss: 21268.2161     \n",
      "Epoch 18/100\n",
      "16/16 [==============================] - 0s - loss: 13358.9620   \n",
      "Epoch 19/100\n",
      "16/16 [==============================] - 0s - loss: 8788.6089     \n",
      "Epoch 20/100\n",
      "16/16 [==============================] - 0s - loss: 11143.1083    \n",
      "Epoch 21/100\n",
      "16/16 [==============================] - 0s - loss: 13916.9984  \n",
      "Epoch 22/100\n",
      "16/16 [==============================] - 0s - loss: 21267.0549     \n",
      "Epoch 23/100\n",
      "16/16 [==============================] - 0s - loss: 26029.8838     \n",
      "Epoch 24/100\n",
      "16/16 [==============================] - 0s - loss: 16810.6414   \n",
      "Epoch 25/100\n",
      "16/16 [==============================] - 0s - loss: 17337.4739     \n",
      "Epoch 26/100\n",
      "16/16 [==============================] - 0s - loss: 18455.7978    \n",
      "Epoch 27/100\n",
      "16/16 [==============================] - 0s - loss: 19056.7123    \n",
      "Epoch 28/100\n",
      "16/16 [==============================] - 0s - loss: 18622.6055     \n",
      "Epoch 29/100\n",
      "16/16 [==============================] - 0s - loss: 12450.8294     \n",
      "Epoch 30/100\n",
      "16/16 [==============================] - 0s - loss: 21268.3341    \n",
      "Epoch 31/100\n",
      "16/16 [==============================] - 0s - loss: 15943.8463     \n",
      "Epoch 32/100\n",
      "16/16 [==============================] - 0s - loss: 28509.7349   \n",
      "Epoch 33/100\n",
      "16/16 [==============================] - 0s - loss: 11483.1323    \n",
      "Epoch 34/100\n",
      "16/16 [==============================] - 0s - loss: 11478.8748     \n",
      "Epoch 35/100\n",
      "16/16 [==============================] - 0s - loss: 17218.9558     \n",
      "Epoch 36/100\n",
      "16/16 [==============================] - 0s - loss: 12307.2657     \n",
      "Epoch 37/100\n",
      "16/16 [==============================] - 0s - loss: 12915.6005    \n",
      "Epoch 38/100\n",
      "16/16 [==============================] - 0s - loss: 14541.1722     \n",
      "Epoch 39/100\n",
      "16/16 [==============================] - 0s - loss: 18365.8156    \n",
      "Epoch 40/100\n",
      "16/16 [==============================] - 0s - loss: 13741.0165     \n",
      "Epoch 41/100\n",
      "16/16 [==============================] - 0s - loss: 19649.8440     \n",
      "Epoch 42/100\n",
      "16/16 [==============================] - 0s - loss: 10604.3344   \n",
      "Epoch 43/100\n",
      "16/16 [==============================] - 0s - loss: 19597.0829    \n",
      "Epoch 44/100\n",
      "16/16 [==============================] - 0s - loss: 11935.5954   \n",
      "Epoch 45/100\n",
      "16/16 [==============================] - 0s - loss: 16170.2038     \n",
      "Epoch 46/100\n",
      "16/16 [==============================] - 0s - loss: 20254.7698    \n",
      "Epoch 47/100\n",
      "16/16 [==============================] - 0s - loss: 11846.5985     \n",
      "Epoch 48/100\n",
      "16/16 [==============================] - 0s - loss: 11456.1481  \n",
      "Epoch 49/100\n",
      "16/16 [==============================] - 0s - loss: 14774.3319     \n",
      "Epoch 50/100\n",
      "16/16 [==============================] - 0s - loss: 10434.1306    \n",
      "Epoch 51/100\n",
      "16/16 [==============================] - 0s - loss: 9585.3159     \n",
      "Epoch 52/100\n",
      "16/16 [==============================] - 0s - loss: 23700.7001    \n",
      "Epoch 53/100\n",
      "16/16 [==============================] - 0s - loss: 15520.9448     \n",
      "Epoch 54/100\n",
      "16/16 [==============================] - 0s - loss: 19754.1755     \n",
      "Epoch 55/100\n",
      "16/16 [==============================] - 0s - loss: 14859.7638   \n",
      "Epoch 56/100\n",
      "16/16 [==============================] - 0s - loss: 15691.5896     \n",
      "Epoch 57/100\n",
      "16/16 [==============================] - 0s - loss: 18882.3315     \n",
      "Epoch 58/100\n",
      "16/16 [==============================] - 0s - loss: 16549.7578     \n",
      "Epoch 59/100\n",
      "16/16 [==============================] - 0s - loss: 12015.0097     \n",
      "Epoch 60/100\n",
      "16/16 [==============================] - 0s - loss: 9161.3259     \n",
      "Epoch 61/100\n",
      "16/16 [==============================] - 0s - loss: 19183.6509     \n",
      "Epoch 62/100\n",
      "16/16 [==============================] - 0s - loss: 18356.9061     \n",
      "Epoch 63/100\n",
      "16/16 [==============================] - 0s - loss: 19964.9551     \n",
      "Epoch 64/100\n",
      "16/16 [==============================] - 0s - loss: 11890.3269    \n",
      "Epoch 65/100\n",
      "16/16 [==============================] - 0s - loss: 18378.9069     \n",
      "Epoch 66/100\n",
      "16/16 [==============================] - 0s - loss: 16725.1724     \n",
      "Epoch 67/100\n",
      "16/16 [==============================] - 0s - loss: 13416.6487     \n",
      "Epoch 68/100\n",
      "16/16 [==============================] - 0s - loss: 10065.2242     \n",
      "Epoch 69/100\n",
      "16/16 [==============================] - 0s - loss: 17479.8744     \n",
      "Epoch 70/100\n",
      "16/16 [==============================] - 0s - loss: 11790.8259     \n",
      "Epoch 71/100\n",
      "16/16 [==============================] - 0s - loss: 12868.5920   \n",
      "Epoch 72/100\n",
      "16/16 [==============================] - 0s - loss: 23629.1212     \n",
      "Epoch 73/100\n",
      "16/16 [==============================] - 0s - loss: 11412.7621     \n",
      "Epoch 74/100\n",
      "16/16 [==============================] - 0s - loss: 23854.6748    \n",
      "Epoch 75/100\n",
      "16/16 [==============================] - 0s - loss: 10904.2220     \n",
      "Epoch 76/100\n",
      "16/16 [==============================] - 0s - loss: 18419.4435     \n",
      "Epoch 77/100\n",
      "16/16 [==============================] - 0s - loss: 12701.4501    \n",
      "Epoch 78/100\n",
      "16/16 [==============================] - 0s - loss: 7107.7102     \n",
      "Epoch 79/100\n",
      "16/16 [==============================] - 0s - loss: 13499.2389   \n",
      "Epoch 80/100\n",
      "16/16 [==============================] - 0s - loss: 20475.2594   \n",
      "Epoch 81/100\n",
      "16/16 [==============================] - 0s - loss: 17171.7873    \n",
      "Epoch 82/100\n",
      "16/16 [==============================] - 0s - loss: 19068.1522    \n",
      "Epoch 83/100\n",
      "16/16 [==============================] - 0s - loss: 17725.9377     \n",
      "Epoch 84/100\n",
      "16/16 [==============================] - 0s - loss: 14736.1147     \n",
      "Epoch 85/100\n",
      "16/16 [==============================] - 0s - loss: 13193.0350     \n",
      "Epoch 86/100\n",
      "16/16 [==============================] - 0s - loss: 17629.6462     \n",
      "Epoch 87/100\n",
      "16/16 [==============================] - 0s - loss: 13818.7219     \n",
      "Epoch 88/100\n",
      "16/16 [==============================] - 0s - loss: 18399.7973     \n",
      "Epoch 89/100\n",
      "16/16 [==============================] - 0s - loss: 15180.4618     \n",
      "Epoch 90/100\n",
      "16/16 [==============================] - 0s - loss: 13805.6280     \n",
      "Epoch 91/100\n",
      "16/16 [==============================] - 0s - loss: 10620.2724    \n",
      "Epoch 92/100\n",
      "16/16 [==============================] - 0s - loss: 14944.1501    \n",
      "Epoch 93/100\n",
      "16/16 [==============================] - 0s - loss: 10311.5049    \n",
      "Epoch 94/100\n",
      "16/16 [==============================] - 0s - loss: 11099.5091    \n",
      "Epoch 95/100\n",
      "16/16 [==============================] - 0s - loss: 15141.8706    \n",
      "Epoch 96/100\n",
      "16/16 [==============================] - 0s - loss: 12020.2131     \n",
      "Epoch 97/100\n",
      "16/16 [==============================] - 0s - loss: 11999.2504     \n",
      "Epoch 98/100\n",
      "16/16 [==============================] - 0s - loss: 23024.8702     \n",
      "Epoch 99/100\n",
      "16/16 [==============================] - 0s - loss: 12620.4739     \n",
      "Epoch 100/100\n",
      "16/16 [==============================] - 0s - loss: 20676.5295     \n"
     ]
    },
    {
     "data": {
      "text/plain": [
       "<keras.callbacks.History at 0x120847208>"
      ]
     },
     "execution_count": 25,
     "metadata": {},
     "output_type": "execute_result"
    }
   ],
   "source": [
    "model.fit(X_train, Y_train, epochs=epochs, batch_size=batch_size)"
   ]
  },
  {
   "cell_type": "code",
   "execution_count": 28,
   "metadata": {
    "collapsed": false
   },
   "outputs": [
    {
     "name": "stdout",
     "output_type": "stream",
     "text": [
      "5/5 [==============================] - 0s\n",
      "11591.2275391\n",
      "コスト関数の値:11591.2275390625\n"
     ]
    }
   ],
   "source": [
    "loss_and_metrics = model.evaluate(X_test, Y_test)\n",
    "print(loss_and_metrics)\n",
    "print(\"コスト関数の値:{}\".format(loss_and_metrics))"
   ]
  },
  {
   "cell_type": "code",
   "execution_count": 29,
   "metadata": {
    "collapsed": true
   },
   "outputs": [],
   "source": [
    "pred = model.predict(X_test[1].reshape((1, 7)))"
   ]
  },
  {
   "cell_type": "code",
   "execution_count": 30,
   "metadata": {
    "collapsed": false
   },
   "outputs": [
    {
     "data": {
      "text/plain": [
       "array([[ 287.14755249]], dtype=float32)"
      ]
     },
     "execution_count": 30,
     "metadata": {},
     "output_type": "execute_result"
    }
   ],
   "source": [
    "pred"
   ]
  },
  {
   "cell_type": "code",
   "execution_count": 31,
   "metadata": {
    "collapsed": true
   },
   "outputs": [],
   "source": [
    "test_resource = np.array([80,5,40,9,5,3,0])"
   ]
  },
  {
   "cell_type": "code",
   "execution_count": 32,
   "metadata": {
    "collapsed": false
   },
   "outputs": [
    {
     "data": {
      "text/plain": [
       "(7,)"
      ]
     },
     "execution_count": 32,
     "metadata": {},
     "output_type": "execute_result"
    }
   ],
   "source": [
    "test_resource.shape"
   ]
  },
  {
   "cell_type": "code",
   "execution_count": 33,
   "metadata": {
    "collapsed": true
   },
   "outputs": [],
   "source": [
    "test_resource = test_resource.reshape((1, 7))"
   ]
  },
  {
   "cell_type": "code",
   "execution_count": 34,
   "metadata": {
    "collapsed": false
   },
   "outputs": [
    {
     "data": {
      "text/plain": [
       "(1, 7)"
      ]
     },
     "execution_count": 34,
     "metadata": {},
     "output_type": "execute_result"
    }
   ],
   "source": [
    "test_resource.shape"
   ]
  },
  {
   "cell_type": "code",
   "execution_count": 35,
   "metadata": {
    "collapsed": true
   },
   "outputs": [],
   "source": [
    "pred_o = model.predict(test_resource)"
   ]
  },
  {
   "cell_type": "code",
   "execution_count": 36,
   "metadata": {
    "collapsed": false
   },
   "outputs": [
    {
     "data": {
      "text/plain": [
       "array([[ 225.02642822]], dtype=float32)"
      ]
     },
     "execution_count": 36,
     "metadata": {},
     "output_type": "execute_result"
    }
   ],
   "source": [
    "pred_o"
   ]
  },
  {
   "cell_type": "code",
   "execution_count": null,
   "metadata": {
    "collapsed": true
   },
   "outputs": [],
   "source": []
  }
 ],
 "metadata": {
  "kernelspec": {
   "display_name": "Python 3",
   "language": "python",
   "name": "python3"
  },
  "language_info": {
   "codemirror_mode": {
    "name": "ipython",
    "version": 3
   },
   "file_extension": ".py",
   "mimetype": "text/x-python",
   "name": "python",
   "nbconvert_exporter": "python",
   "pygments_lexer": "ipython3",
   "version": "3.5.2"
  }
 },
 "nbformat": 4,
 "nbformat_minor": 1
}
