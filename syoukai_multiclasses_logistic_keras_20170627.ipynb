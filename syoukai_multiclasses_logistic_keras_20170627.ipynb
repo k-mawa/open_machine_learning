{
 "cells": [
  {
   "cell_type": "code",
   "execution_count": 6,
   "metadata": {
    "collapsed": true
   },
   "outputs": [],
   "source": [
    "#『詳解ディープラーニング』より引用のロジスティック回帰コード（多クラス分類　keras.ver）の解説メモ　自分用\n",
    "#利用環境\n",
    "#keras-2.0.5 numpy-1.13.0 scipy-0.19.1 theano-0.9.0"
   ]
  },
  {
   "cell_type": "code",
   "execution_count": 2,
   "metadata": {
    "collapsed": true
   },
   "outputs": [],
   "source": [
    "import numpy as np\n",
    "from sklearn.utils import shuffle"
   ]
  },
  {
   "cell_type": "code",
   "execution_count": 3,
   "metadata": {
    "collapsed": true
   },
   "outputs": [],
   "source": [
    "M = 2\n",
    "K = 3\n",
    "n = 100\n",
    "N = n * K\n",
    "X1 = np.random.randn(n, M) + np.array([0, 10])\n",
    "X2 = np.random.randn(n, M) + np.array([5, 5])\n",
    "X3 = np.random.randn(n, M) + np.array([10, 0])\n",
    "Y1 = np.array([[1, 0, 0] for i in range(n)])\n",
    "Y2 = np.array([[0, 1, 0] for i in range(n)])\n",
    "Y3 = np.array([[0, 0, 1] for i in range(n)])\n",
    "X = np.concatenate((X1, X2, X3), axis = 0)\n",
    "Y = np.concatenate((Y1, Y2, Y3), axis = 0)"
   ]
  },
  {
   "cell_type": "code",
   "execution_count": 4,
   "metadata": {
    "collapsed": true
   },
   "outputs": [],
   "source": [
    "import matplotlib.pyplot as plt\n",
    "%matplotlib inline"
   ]
  },
  {
   "cell_type": "code",
   "execution_count": 5,
   "metadata": {
    "collapsed": false
   },
   "outputs": [
    {
     "name": "stderr",
     "output_type": "stream",
     "text": [
      "/Users/enc/.pyenv/versions/3.5.2/lib/python3.5/site-packages/matplotlib/figure.py:397: UserWarning: matplotlib is currently using a non-GUI backend, so cannot show the figure\n",
      "  \"matplotlib is currently using a non-GUI backend, \"\n"
     ]
    },
    {
     "data": {
      "image/png": "[encoded data removed]",
      "text/plain": [
       "<matplotlib.figure.Figure at 0x10d061160>"
      ]
     },
     "metadata": {},
     "output_type": "display_data"
    }
   ],
   "source": [
    "fig = plt.figure()\n",
    "ax = fig.add_subplot(1,1,1)\n",
    "ax.scatter(X[:,0],X[:,1])\n",
    "ax.set_title('scatter plot')\n",
    "fig.show()"
   ]
  },
  {
   "cell_type": "code",
   "execution_count": 7,
   "metadata": {
    "collapsed": false
   },
   "outputs": [
    {
     "name": "stderr",
     "output_type": "stream",
     "text": [
      "Using TensorFlow backend.\n"
     ]
    }
   ],
   "source": [
    "from keras.layers.core import Activation\n",
    "from keras.layers.core import Dense\n",
    "from keras.models import Sequential\n",
    "from keras.optimizers import SGD"
   ]
  },
  {
   "cell_type": "code",
   "execution_count": 9,
   "metadata": {
    "collapsed": true
   },
   "outputs": [],
   "source": [
    "model = Sequential()"
   ]
  },
  {
   "cell_type": "code",
   "execution_count": 10,
   "metadata": {
    "collapsed": true
   },
   "outputs": [],
   "source": [
    "model.add(Dense(input_dim=M, units=K))"
   ]
  },
  {
   "cell_type": "code",
   "execution_count": 14,
   "metadata": {
    "collapsed": true
   },
   "outputs": [],
   "source": [
    "#↑二値問題ロジスティック回帰の場合のとき→model.add(Dense(input_dim=2, units=1))：インプットの回路数が2からM　ユニット数が１からKになっている"
   ]
  },
  {
   "cell_type": "code",
   "execution_count": 11,
   "metadata": {
    "collapsed": true
   },
   "outputs": [],
   "source": [
    "model.add(Activation('softmax'))"
   ]
  },
  {
   "cell_type": "code",
   "execution_count": 13,
   "metadata": {
    "collapsed": true
   },
   "outputs": [],
   "source": [
    "#↑二値問題ロジスティック回帰の場合のとき→model.add(Activation('sigmoid'))：sigmoidからsoftmaxになっている"
   ]
  },
  {
   "cell_type": "code",
   "execution_count": 15,
   "metadata": {
    "collapsed": true
   },
   "outputs": [],
   "source": [
    "model.compile(loss='categorical_crossentropy', optimizer=SGD(lr=0.1))"
   ]
  },
  {
   "cell_type": "code",
   "execution_count": 16,
   "metadata": {
    "collapsed": true
   },
   "outputs": [],
   "source": [
    "#↑二値問題ロジスティック回帰の場合のとき→model.compile(loss='binary_crossentropy', optimizer=SGD(lr=0.1))\n",
    "#binary_crossentropy→categorical_crossentropy になっている"
   ]
  },
  {
   "cell_type": "code",
   "execution_count": 17,
   "metadata": {
    "collapsed": true
   },
   "outputs": [],
   "source": [
    "minibatch_size = 50"
   ]
  },
  {
   "cell_type": "code",
   "execution_count": 23,
   "metadata": {
    "collapsed": true
   },
   "outputs": [],
   "source": [
    "#↑↓ミニバッチ学習で最適化している"
   ]
  },
  {
   "cell_type": "code",
   "execution_count": 18,
   "metadata": {
    "collapsed": false
   },
   "outputs": [
    {
     "name": "stdout",
     "output_type": "stream",
     "text": [
      "Epoch 1/20\n",
      "300/300 [==============================] - 0s - loss: 1.4148     \n",
      "Epoch 2/20\n",
      "300/300 [==============================] - 0s - loss: 0.2260     \n",
      "Epoch 3/20\n",
      "300/300 [==============================] - 0s - loss: 0.1580     \n",
      "Epoch 4/20\n",
      "300/300 [==============================] - 0s - loss: 0.1182     \n",
      "Epoch 5/20\n",
      "300/300 [==============================] - 0s - loss: 0.0999     \n",
      "Epoch 6/20\n",
      "300/300 [==============================] - 0s - loss: 0.0817     \n",
      "Epoch 7/20\n",
      "300/300 [==============================] - 0s - loss: 0.0716     \n",
      "Epoch 8/20\n",
      "300/300 [==============================] - 0s - loss: 0.0642     \n",
      "Epoch 9/20\n",
      "300/300 [==============================] - 0s - loss: 0.0585     \n",
      "Epoch 10/20\n",
      "300/300 [==============================] - 0s - loss: 0.0534     \n",
      "Epoch 11/20\n",
      "300/300 [==============================] - 0s - loss: 0.0498     \n",
      "Epoch 12/20\n",
      "300/300 [==============================] - 0s - loss: 0.0470     \n",
      "Epoch 13/20\n",
      "300/300 [==============================] - 0s - loss: 0.0436     \n",
      "Epoch 14/20\n",
      "300/300 [==============================] - 0s - loss: 0.0411     \n",
      "Epoch 15/20\n",
      "300/300 [==============================] - 0s - loss: 0.0393     \n",
      "Epoch 16/20\n",
      "300/300 [==============================] - 0s - loss: 0.0371     \n",
      "Epoch 17/20\n",
      "300/300 [==============================] - 0s - loss: 0.0359     \n",
      "Epoch 18/20\n",
      "300/300 [==============================] - 0s - loss: 0.0340     \n",
      "Epoch 19/20\n",
      "300/300 [==============================] - 0s - loss: 0.0324     \n",
      "Epoch 20/20\n",
      "300/300 [==============================] - 0s - loss: 0.0314     \n"
     ]
    },
    {
     "data": {
      "text/plain": [
       "<keras.callbacks.History at 0x1184b5cf8>"
      ]
     },
     "execution_count": 18,
     "metadata": {},
     "output_type": "execute_result"
    }
   ],
   "source": [
    "model.fit(X, Y, epochs=20, batch_size=minibatch_size)"
   ]
  },
  {
   "cell_type": "code",
   "execution_count": 21,
   "metadata": {
    "collapsed": false
   },
   "outputs": [
    {
     "name": "stdout",
     "output_type": "stream",
     "text": [
      "10/10 [==============================] - 0s\n",
      " 1/10 [==>...........................] - ETA: 0sclassified:\n",
      "[2 2 2 0 0 1 2 0 1 0]\n",
      "[ True  True  True  True  True  True  True  True  True  True]\n",
      "\n",
      "output probability:\n",
      "[[  5.32913447e-08   8.10188428e-03   9.91898060e-01]\n",
      " [  1.62625415e-08   2.37747859e-02   9.76225138e-01]\n",
      " [  1.09865908e-07   2.68083028e-02   9.73191619e-01]\n",
      " [  9.55868483e-01   4.41315807e-02   4.55532394e-08]\n",
      " [  9.91713762e-01   8.28626007e-03   3.51079477e-09]\n",
      " [  9.38163791e-03   8.98575664e-01   9.20426846e-02]\n",
      " [  1.45099479e-08   1.40904421e-02   9.85909522e-01]\n",
      " [  9.90424216e-01   9.57574695e-03   5.81202002e-08]\n",
      " [  4.96198377e-03   9.86497819e-01   8.54018703e-03]\n",
      " [  9.96361077e-01   3.63898184e-03   4.02196987e-09]]\n"
     ]
    }
   ],
   "source": [
    "X_, Y_ = shuffle(X, Y)\n",
    "\n",
    "classified = model.predict_classes(\n",
    "    X_[0:10],\n",
    "    batch_size=minibatch_size\n",
    "    )\n",
    "\n",
    "probability = model.predict_proba(\n",
    "    X_[0:10],\n",
    "    batch_size=1\n",
    "    )\n",
    "\n",
    "print('classified:')\n",
    "print(classified)\n",
    "print(np.argmax(model.predict(X_[0:10]), axis=1) == classified)\n",
    "print()\n",
    "print('output probability:')\n",
    "print(probability)"
   ]
  },
  {
   "cell_type": "code",
   "execution_count": 22,
   "metadata": {
    "collapsed": true
   },
   "outputs": [],
   "source": [
    "#すべて正解となっているOK"
   ]
  },
  {
   "cell_type": "code",
   "execution_count": null,
   "metadata": {
    "collapsed": true
   },
   "outputs": [],
   "source": []
  }
 ],
 "metadata": {
  "kernelspec": {
   "display_name": "Python 3",
   "language": "python",
   "name": "python3"
  },
  "language_info": {
   "codemirror_mode": {
    "name": "ipython",
    "version": 3
   },
   "file_extension": ".py",
   "mimetype": "text/x-python",
   "name": "python",
   "nbconvert_exporter": "python",
   "pygments_lexer": "ipython3",
   "version": "3.5.2"
  }
 },
 "nbformat": 4,
 "nbformat_minor": 1
}
