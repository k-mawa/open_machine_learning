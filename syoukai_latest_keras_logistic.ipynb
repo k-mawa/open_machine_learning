{
 "cells": [
  {
   "cell_type": "code",
   "execution_count": 14,
   "metadata": {
    "collapsed": false
   },
   "outputs": [],
   "source": [
    "#『詳解ディープラーニング』より引用のロジスティック回帰コード　keras版（最新版kerasでないので変数名に注意）の解説メモ　自分用\n",
    "#利用環境\n",
    "#keras-2.0.5 numpy-1.13.0 scipy-0.19.1 theano-0.9.0"
   ]
  },
  {
   "cell_type": "code",
   "execution_count": 2,
   "metadata": {
    "collapsed": false
   },
   "outputs": [
    {
     "name": "stderr",
     "output_type": "stream",
     "text": [
      "Using TensorFlow backend.\n"
     ]
    }
   ],
   "source": [
    "import numpy as np\n",
    "from keras.layers.core import Activation\n",
    "from keras.layers.core import Dense\n",
    "from keras.models import Sequential"
   ]
  },
  {
   "cell_type": "code",
   "execution_count": 3,
   "metadata": {
    "collapsed": true
   },
   "outputs": [],
   "source": [
    "from keras.optimizers import SGD"
   ]
  },
  {
   "cell_type": "code",
   "execution_count": 4,
   "metadata": {
    "collapsed": true
   },
   "outputs": [],
   "source": [
    "#↑SGDは確率的勾配降下法（stochastic gradient descent）"
   ]
  },
  {
   "cell_type": "code",
   "execution_count": 8,
   "metadata": {
    "collapsed": false
   },
   "outputs": [],
   "source": [
    "model = Sequential()"
   ]
  },
  {
   "cell_type": "code",
   "execution_count": 9,
   "metadata": {
    "collapsed": true
   },
   "outputs": [],
   "source": [
    "#Sequential()：計算グラフの基盤を構築するメソッド"
   ]
  },
  {
   "cell_type": "code",
   "execution_count": 11,
   "metadata": {
    "collapsed": false
   },
   "outputs": [],
   "source": [
    "model.add(Dense(input_dim=2, units=1))"
   ]
  },
  {
   "cell_type": "code",
   "execution_count": 12,
   "metadata": {
    "collapsed": true
   },
   "outputs": [],
   "source": [
    "model.add(Activation('sigmoid'))"
   ]
  },
  {
   "cell_type": "code",
   "execution_count": 15,
   "metadata": {
    "collapsed": true
   },
   "outputs": [],
   "source": [
    "#Dense(input_dim=2, units=1) ネットワーク層のユニット数（units　）、インプット（input_dim）・アウトプットunitsの数を定義。Dense：密集した　という意味合い\n",
    "#層からの出力を確率に変換する関数を選ぶのがActivationメソッド、今回はシグモイド関数をチョイス"
   ]
  },
  {
   "cell_type": "code",
   "execution_count": 16,
   "metadata": {
    "collapsed": true
   },
   "outputs": [],
   "source": [
    "model.compile(loss='binary_crossentropy', optimizer=SGD(lr=0.1))"
   ]
  },
  {
   "cell_type": "code",
   "execution_count": 17,
   "metadata": {
    "collapsed": true
   },
   "outputs": [],
   "source": [
    "#↑つくった計算グラフmodelの最適化計算の定義をしている\n",
    "#loss='binary_crossentropy'→最小化対象のコスト関数：クロスエントロピー誤差のコスト関数を定義（これだけでやってくれるとは凄い・・・）\n",
    "#optimizer=SGD(lr=0.1)　→学習率0.1で、SGD：確率的勾配降下法で重みを最適化"
   ]
  },
  {
   "cell_type": "code",
   "execution_count": 18,
   "metadata": {
    "collapsed": true
   },
   "outputs": [],
   "source": [
    "#@@@@@@\n",
    "#テストデータ生成"
   ]
  },
  {
   "cell_type": "code",
   "execution_count": 19,
   "metadata": {
    "collapsed": true
   },
   "outputs": [],
   "source": [
    "X = np.array([[0,0],[0,1],[1,0],[1,1]])\n",
    "Y = np.array([[0],[1],[1],[1]])"
   ]
  },
  {
   "cell_type": "code",
   "execution_count": 20,
   "metadata": {
    "collapsed": false
   },
   "outputs": [
    {
     "data": {
      "text/plain": [
       "array([[0, 0],\n",
       "       [0, 1],\n",
       "       [1, 0],\n",
       "       [1, 1]])"
      ]
     },
     "execution_count": 20,
     "metadata": {},
     "output_type": "execute_result"
    }
   ],
   "source": [
    "X"
   ]
  },
  {
   "cell_type": "code",
   "execution_count": 21,
   "metadata": {
    "collapsed": false
   },
   "outputs": [
    {
     "data": {
      "text/plain": [
       "array([[0],\n",
       "       [1],\n",
       "       [1],\n",
       "       [1]])"
      ]
     },
     "execution_count": 21,
     "metadata": {},
     "output_type": "execute_result"
    }
   ],
   "source": [
    "Y"
   ]
  },
  {
   "cell_type": "code",
   "execution_count": 22,
   "metadata": {
    "collapsed": true
   },
   "outputs": [],
   "source": [
    "#@@@@@@"
   ]
  },
  {
   "cell_type": "code",
   "execution_count": 23,
   "metadata": {
    "collapsed": false
   },
   "outputs": [
    {
     "name": "stdout",
     "output_type": "stream",
     "text": [
      "Epoch 1/20\n",
      "4/4 [==============================] - 0s - loss: 0.7685     \n",
      "Epoch 2/20\n",
      "4/4 [==============================] - 0s - loss: 0.6262     \n",
      "Epoch 3/20\n",
      "4/4 [==============================] - 0s - loss: 0.5566     \n",
      "Epoch 4/20\n",
      "4/4 [==============================] - 0s - loss: 0.5153     \n",
      "Epoch 5/20\n",
      "4/4 [==============================] - 0s - loss: 0.4880     \n",
      "Epoch 6/20\n",
      "4/4 [==============================] - 0s - loss: 0.4655     \n",
      "Epoch 7/20\n",
      "4/4 [==============================] - 0s - loss: 0.4478     \n",
      "Epoch 8/20\n",
      "4/4 [==============================] - 0s - loss: 0.4306     \n",
      "Epoch 9/20\n",
      "4/4 [==============================] - 0s - loss: 0.4158     \n",
      "Epoch 10/20\n",
      "4/4 [==============================] - 0s - loss: 0.4010     \n",
      "Epoch 11/20\n",
      "4/4 [==============================] - 0s - loss: 0.3859     \n",
      "Epoch 12/20\n",
      "4/4 [==============================] - 0s - loss: 0.3718     \n",
      "Epoch 13/20\n",
      "4/4 [==============================] - 0s - loss: 0.3581     \n",
      "Epoch 14/20\n",
      "4/4 [==============================] - 0s - loss: 0.3439     \n",
      "Epoch 15/20\n",
      "4/4 [==============================] - 0s - loss: 0.3307     \n",
      "Epoch 16/20\n",
      "4/4 [==============================] - 0s - loss: 0.3168     \n",
      "Epoch 17/20\n",
      "4/4 [==============================] - 0s - loss: 0.3036     \n",
      "Epoch 18/20\n",
      "4/4 [==============================] - 0s - loss: 0.2905     \n",
      "Epoch 19/20\n",
      "4/4 [==============================] - 0s - loss: 0.2775     \n",
      "Epoch 20/20\n",
      "4/4 [==============================] - 0s - loss: 0.2659     \n"
     ]
    },
    {
     "data": {
      "text/plain": [
       "<keras.callbacks.History at 0x112668860>"
      ]
     },
     "execution_count": 23,
     "metadata": {},
     "output_type": "execute_result"
    }
   ],
   "source": [
    "model.fit(X, Y, epochs=20, batch_size=1)"
   ]
  },
  {
   "cell_type": "code",
   "execution_count": 24,
   "metadata": {
    "collapsed": true
   },
   "outputs": [],
   "source": [
    "#学習開始　 :epochs学習素材1セットの学習ターン数（nb_epochから変数名が変更された）\n",
    "#batch_sizeはセット数　batch_size＝１は確率的勾配降下法、batch_size＝２・・・　はミニバッチ学習　batch_size＝(全データ)は普通の最急降下法"
   ]
  },
  {
   "cell_type": "code",
   "execution_count": 25,
   "metadata": {
    "collapsed": false
   },
   "outputs": [
    {
     "name": "stdout",
     "output_type": "stream",
     "text": [
      "1/4 [======>.......................] - ETA: 0s"
     ]
    }
   ],
   "source": [
    "classes = model.predict_classes(X, batch_size=1)\n",
    "probability = model.predict_proba(X, batch_size=1)"
   ]
  },
  {
   "cell_type": "code",
   "execution_count": 26,
   "metadata": {
    "collapsed": false
   },
   "outputs": [
    {
     "name": "stdout",
     "output_type": "stream",
     "text": [
      "[[0]\n",
      " [1]\n",
      " [1]\n",
      " [1]]\n"
     ]
    }
   ],
   "source": [
    "print(classes)"
   ]
  },
  {
   "cell_type": "code",
   "execution_count": 27,
   "metadata": {
    "collapsed": false
   },
   "outputs": [
    {
     "name": "stdout",
     "output_type": "stream",
     "text": [
      "[[ 0.4545511 ]\n",
      " [ 0.82641399]\n",
      " [ 0.86812413]\n",
      " [ 0.97409803]]\n"
     ]
    }
   ],
   "source": [
    "print(probability)"
   ]
  },
  {
   "cell_type": "code",
   "execution_count": 28,
   "metadata": {
    "collapsed": true
   },
   "outputs": [],
   "source": [
    "#予測OK"
   ]
  },
  {
   "cell_type": "code",
   "execution_count": null,
   "metadata": {
    "collapsed": true
   },
   "outputs": [],
   "source": []
  }
 ],
 "metadata": {
  "kernelspec": {
   "display_name": "Python 3",
   "language": "python",
   "name": "python3"
  },
  "language_info": {
   "codemirror_mode": {
    "name": "ipython",
    "version": 3
   },
   "file_extension": ".py",
   "mimetype": "text/x-python",
   "name": "python",
   "nbconvert_exporter": "python",
   "pygments_lexer": "ipython3",
   "version": "3.5.2"
  }
 },
 "nbformat": 4,
 "nbformat_minor": 1
}
