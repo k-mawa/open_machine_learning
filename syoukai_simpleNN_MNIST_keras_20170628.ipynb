{
 "cells": [
  {
   "cell_type": "code",
   "execution_count": 30,
   "metadata": {
    "collapsed": true
   },
   "outputs": [],
   "source": [
    "#『詳解ディープラーニング』より引用のロジスティック回帰コード（多クラス分類　keras.ver）の解説メモ　自分用\n",
    "#利用環境\n",
    "#keras-2.0.5 numpy-1.13.0 scipy-0.19.1 theano-0.9.0"
   ]
  },
  {
   "cell_type": "code",
   "execution_count": 5,
   "metadata": {
    "collapsed": true
   },
   "outputs": [],
   "source": [
    "#MNISTデータセットのセットアップ(詳細は、syoukai_testdata_MNIST20170627.ipynb　を参照のこと)\n"
   ]
  },
  {
   "cell_type": "code",
   "execution_count": 4,
   "metadata": {
    "collapsed": false
   },
   "outputs": [
    {
     "name": "stdout",
     "output_type": "stream",
     "text": [
      "X_train:(8000, 784)\n",
      "X_test:(2000, 784)\n",
      "Y_train:(8000, 10)\n",
      "Y_test:(2000, 10)\n"
     ]
    }
   ],
   "source": [
    "from sklearn import datasets\n",
    "mnist = datasets.fetch_mldata('MNIST original', data_home='.')\n",
    "n = len(mnist.data)\n",
    "N=10000\n",
    "import numpy as np\n",
    "indices = np.random.permutation(range(n))[:N]\n",
    "X = mnist.data[indices]\n",
    "y = mnist.target[indices]\n",
    "Y = np.eye(10)[y.astype(int)]\n",
    "from sklearn.model_selection import train_test_split\n",
    "X_train, X_test, Y_train, Y_test = train_test_split(X, Y, train_size=0.8)\n",
    "print(\"X_train:{}\".format(X_train.shape))\n",
    "print(\"X_test:{}\".format(X_test.shape))\n",
    "print(\"Y_train:{}\".format(Y_train.shape))\n",
    "print(\"Y_test:{}\".format(Y_test.shape))"
   ]
  },
  {
   "cell_type": "code",
   "execution_count": 7,
   "metadata": {
    "collapsed": true
   },
   "outputs": [],
   "source": [
    "#kerasセットアップ"
   ]
  },
  {
   "cell_type": "code",
   "execution_count": 6,
   "metadata": {
    "collapsed": false
   },
   "outputs": [
    {
     "name": "stderr",
     "output_type": "stream",
     "text": [
      "Using TensorFlow backend.\n"
     ]
    }
   ],
   "source": [
    "from keras.models import Sequential\n",
    "from keras.layers.core import Dense, Activation\n",
    "from keras.layers.advanced_activations import PReLU\n",
    "from keras.optimizers import SGD"
   ]
  },
  {
   "cell_type": "code",
   "execution_count": 8,
   "metadata": {
    "collapsed": true
   },
   "outputs": [],
   "source": [
    "#kerasモデル生成"
   ]
  },
  {
   "cell_type": "code",
   "execution_count": 23,
   "metadata": {
    "collapsed": true
   },
   "outputs": [],
   "source": [
    "n_in = len(X[0])  # 784\n",
    "n_hidden = 200 #ここを2000にすると精度が上がるがそれ以上にすると逆に下がる\n",
    "n_out = len(Y[0])  # 10\n",
    "\n",
    "model = Sequential()\n",
    "model.add(Dense(n_hidden, input_dim=n_in)) #隠れ層ユニット数はn_hidden＝200個\n",
    "model.add(Activation('sigmoid')) #アクティベーションはシグモイド関数\n",
    "\n",
    "# model.add(Dense(n_hidden)) #隠れ層を追加で入れるとしたらこんな感じってことかな\n",
    "# model.add(Activation('sigmoid')) #隠れ層を追加で入れるとしたらこんな感じってことかな\n",
    "\n",
    "# model.add(Dense(n_hidden)) #隠れ層を追加で入れるとしたらこんな感じってことかな\n",
    "# model.add(Activation('sigmoid')) #隠れ層を追加で入れるとしたらこんな感じってことかな\n",
    "\n",
    "# model.add(Dense(n_hidden)) #隠れ層を追加で入れるとしたらこんな感じってことかな\n",
    "# model.add(Activation('sigmoid')) #隠れ層を追加で入れるとしたらこんな感じってことかな\n",
    "\n",
    "model.add(Dense(n_out)) #出力＝n_out=10\n",
    "model.add(Activation('softmax')) #多クラス分類なのでソフトマックス関数でアクティベーション\n",
    "\n",
    "model.compile(loss='categorical_crossentropy',\n",
    "              optimizer=SGD(lr=0.01),\n",
    "metrics=['accuracy'])"
   ]
  },
  {
   "cell_type": "code",
   "execution_count": 24,
   "metadata": {
    "collapsed": true
   },
   "outputs": [],
   "source": [
    "#↑で作ったモデルを↓でフィットさせる"
   ]
  },
  {
   "cell_type": "code",
   "execution_count": 25,
   "metadata": {
    "collapsed": false
   },
   "outputs": [
    {
     "name": "stdout",
     "output_type": "stream",
     "text": [
      "Epoch 1/100\n",
      "8000/8000 [==============================] - 0s - loss: 1.9991 - acc: 0.3397     \n",
      "Epoch 2/100\n",
      "8000/8000 [==============================] - 0s - loss: 1.3698 - acc: 0.6570     \n",
      "Epoch 3/100\n",
      "8000/8000 [==============================] - 0s - loss: 1.0919 - acc: 0.7486     \n",
      "Epoch 4/100\n",
      "8000/8000 [==============================] - 0s - loss: 0.9285 - acc: 0.7948     \n",
      "Epoch 5/100\n",
      "8000/8000 [==============================] - 0s - loss: 0.8213 - acc: 0.8266     \n",
      "Epoch 6/100\n",
      "8000/8000 [==============================] - 0s - loss: 0.7409 - acc: 0.8416     \n",
      "Epoch 7/100\n",
      "8000/8000 [==============================] - 0s - loss: 0.6776 - acc: 0.8561     \n",
      "Epoch 8/100\n",
      "8000/8000 [==============================] - 0s - loss: 0.6247 - acc: 0.8698     \n",
      "Epoch 9/100\n",
      "8000/8000 [==============================] - 0s - loss: 0.5827 - acc: 0.8785     \n",
      "Epoch 10/100\n",
      "8000/8000 [==============================] - 0s - loss: 0.5470 - acc: 0.8894     \n",
      "Epoch 11/100\n",
      "8000/8000 [==============================] - 0s - loss: 0.5180 - acc: 0.8937     \n",
      "Epoch 12/100\n",
      "8000/8000 [==============================] - 0s - loss: 0.4908 - acc: 0.8995     \n",
      "Epoch 13/100\n",
      "8000/8000 [==============================] - 0s - loss: 0.4672 - acc: 0.9050     \n",
      "Epoch 14/100\n",
      "8000/8000 [==============================] - 0s - loss: 0.4476 - acc: 0.9093     \n",
      "Epoch 15/100\n",
      "8000/8000 [==============================] - 0s - loss: 0.4301 - acc: 0.9111     \n",
      "Epoch 16/100\n",
      "8000/8000 [==============================] - 0s - loss: 0.4126 - acc: 0.9141     \n",
      "Epoch 17/100\n",
      "8000/8000 [==============================] - 0s - loss: 0.3990 - acc: 0.9178     \n",
      "Epoch 18/100\n",
      "8000/8000 [==============================] - 0s - loss: 0.3838 - acc: 0.9208     \n",
      "Epoch 19/100\n",
      "8000/8000 [==============================] - 0s - loss: 0.3715 - acc: 0.9221     \n",
      "Epoch 20/100\n",
      "8000/8000 [==============================] - 0s - loss: 0.3600 - acc: 0.9261     \n",
      "Epoch 21/100\n",
      "8000/8000 [==============================] - 0s - loss: 0.3497 - acc: 0.9279     \n",
      "Epoch 22/100\n",
      "8000/8000 [==============================] - 0s - loss: 0.3402 - acc: 0.9290     \n",
      "Epoch 23/100\n",
      "8000/8000 [==============================] - 0s - loss: 0.3320 - acc: 0.9306     \n",
      "Epoch 24/100\n",
      "8000/8000 [==============================] - 0s - loss: 0.3226 - acc: 0.9330     \n",
      "Epoch 25/100\n",
      "8000/8000 [==============================] - 0s - loss: 0.3161 - acc: 0.9335     \n",
      "Epoch 26/100\n",
      "8000/8000 [==============================] - 0s - loss: 0.3089 - acc: 0.9355     \n",
      "Epoch 27/100\n",
      "8000/8000 [==============================] - 0s - loss: 0.3025 - acc: 0.9374     \n",
      "Epoch 28/100\n",
      "8000/8000 [==============================] - 0s - loss: 0.2958 - acc: 0.9380     \n",
      "Epoch 29/100\n",
      "8000/8000 [==============================] - 0s - loss: 0.2909 - acc: 0.9399     \n",
      "Epoch 30/100\n",
      "8000/8000 [==============================] - 0s - loss: 0.2857 - acc: 0.9407     \n",
      "Epoch 31/100\n",
      "8000/8000 [==============================] - 0s - loss: 0.2803 - acc: 0.9421     \n",
      "Epoch 32/100\n",
      "8000/8000 [==============================] - 0s - loss: 0.2750 - acc: 0.9429     \n",
      "Epoch 33/100\n",
      "8000/8000 [==============================] - 0s - loss: 0.2706 - acc: 0.9437     \n",
      "Epoch 34/100\n",
      "8000/8000 [==============================] - 0s - loss: 0.2662 - acc: 0.9460     \n",
      "Epoch 35/100\n",
      "8000/8000 [==============================] - 0s - loss: 0.2629 - acc: 0.9452     \n",
      "Epoch 36/100\n",
      "8000/8000 [==============================] - 0s - loss: 0.2588 - acc: 0.9467     \n",
      "Epoch 37/100\n",
      "8000/8000 [==============================] - 0s - loss: 0.2547 - acc: 0.9480     \n",
      "Epoch 38/100\n",
      "8000/8000 [==============================] - 0s - loss: 0.2511 - acc: 0.9482     \n",
      "Epoch 39/100\n",
      "8000/8000 [==============================] - 0s - loss: 0.2478 - acc: 0.9485     \n",
      "Epoch 40/100\n",
      "8000/8000 [==============================] - 0s - loss: 0.2448 - acc: 0.9490     \n",
      "Epoch 41/100\n",
      "8000/8000 [==============================] - 0s - loss: 0.2418 - acc: 0.9489     \n",
      "Epoch 42/100\n",
      "8000/8000 [==============================] - 0s - loss: 0.2391 - acc: 0.9487     \n",
      "Epoch 43/100\n",
      "8000/8000 [==============================] - 0s - loss: 0.2361 - acc: 0.9496     \n",
      "Epoch 44/100\n",
      "8000/8000 [==============================] - 0s - loss: 0.2341 - acc: 0.9504     \n",
      "Epoch 45/100\n",
      "8000/8000 [==============================] - 0s - loss: 0.2315 - acc: 0.9509     \n",
      "Epoch 46/100\n",
      "8000/8000 [==============================] - 0s - loss: 0.2293 - acc: 0.9502     \n",
      "Epoch 47/100\n",
      "8000/8000 [==============================] - 0s - loss: 0.2269 - acc: 0.9515     \n",
      "Epoch 48/100\n",
      "8000/8000 [==============================] - 0s - loss: 0.2246 - acc: 0.9515     \n",
      "Epoch 49/100\n",
      "8000/8000 [==============================] - 0s - loss: 0.2224 - acc: 0.9515     \n",
      "Epoch 50/100\n",
      "8000/8000 [==============================] - 0s - loss: 0.2201 - acc: 0.9520     \n",
      "Epoch 51/100\n",
      "8000/8000 [==============================] - 0s - loss: 0.2183 - acc: 0.9524     \n",
      "Epoch 52/100\n",
      "8000/8000 [==============================] - 0s - loss: 0.2166 - acc: 0.9525     \n",
      "Epoch 53/100\n",
      "8000/8000 [==============================] - 0s - loss: 0.2144 - acc: 0.9532     \n",
      "Epoch 54/100\n",
      "8000/8000 [==============================] - 0s - loss: 0.2126 - acc: 0.9530     \n",
      "Epoch 55/100\n",
      "8000/8000 [==============================] - 0s - loss: 0.2109 - acc: 0.9531     \n",
      "Epoch 56/100\n",
      "8000/8000 [==============================] - 0s - loss: 0.2100 - acc: 0.9539     \n",
      "Epoch 57/100\n",
      "8000/8000 [==============================] - 0s - loss: 0.2079 - acc: 0.9536     \n",
      "Epoch 58/100\n",
      "8000/8000 [==============================] - 0s - loss: 0.2064 - acc: 0.9534     \n",
      "Epoch 59/100\n",
      "8000/8000 [==============================] - 0s - loss: 0.2049 - acc: 0.9544     \n",
      "Epoch 60/100\n",
      "8000/8000 [==============================] - 0s - loss: 0.2031 - acc: 0.9544     \n",
      "Epoch 61/100\n",
      "8000/8000 [==============================] - 0s - loss: 0.2015 - acc: 0.9547     \n",
      "Epoch 62/100\n",
      "8000/8000 [==============================] - 0s - loss: 0.2003 - acc: 0.9552     \n",
      "Epoch 63/100\n",
      "8000/8000 [==============================] - 0s - loss: 0.1987 - acc: 0.9552     \n",
      "Epoch 64/100\n",
      "8000/8000 [==============================] - 0s - loss: 0.1975 - acc: 0.9552     \n",
      "Epoch 65/100\n",
      "8000/8000 [==============================] - 0s - loss: 0.1962 - acc: 0.9555     \n",
      "Epoch 66/100\n",
      "8000/8000 [==============================] - 0s - loss: 0.1948 - acc: 0.9557     \n",
      "Epoch 67/100\n",
      "8000/8000 [==============================] - 0s - loss: 0.1935 - acc: 0.9561     \n",
      "Epoch 68/100\n",
      "8000/8000 [==============================] - 0s - loss: 0.1925 - acc: 0.9556     \n",
      "Epoch 69/100\n",
      "8000/8000 [==============================] - 0s - loss: 0.1912 - acc: 0.9562     \n",
      "Epoch 70/100\n",
      "8000/8000 [==============================] - 0s - loss: 0.1897 - acc: 0.9566     \n",
      "Epoch 71/100\n",
      "8000/8000 [==============================] - 0s - loss: 0.1886 - acc: 0.9567     \n",
      "Epoch 72/100\n",
      "8000/8000 [==============================] - 0s - loss: 0.1875 - acc: 0.9570     \n",
      "Epoch 73/100\n",
      "8000/8000 [==============================] - 0s - loss: 0.1865 - acc: 0.9571     \n",
      "Epoch 74/100\n",
      "8000/8000 [==============================] - 0s - loss: 0.1854 - acc: 0.9570     \n",
      "Epoch 75/100\n",
      "8000/8000 [==============================] - 0s - loss: 0.1845 - acc: 0.9576     \n",
      "Epoch 76/100\n",
      "8000/8000 [==============================] - 0s - loss: 0.1834 - acc: 0.9575     \n",
      "Epoch 77/100\n",
      "8000/8000 [==============================] - 0s - loss: 0.1824 - acc: 0.9582     \n",
      "Epoch 78/100\n",
      "8000/8000 [==============================] - 0s - loss: 0.1814 - acc: 0.9582     \n",
      "Epoch 79/100\n",
      "8000/8000 [==============================] - 0s - loss: 0.1805 - acc: 0.9589     \n",
      "Epoch 80/100\n",
      "8000/8000 [==============================] - 0s - loss: 0.1795 - acc: 0.9591     \n",
      "Epoch 81/100\n",
      "8000/8000 [==============================] - 0s - loss: 0.1787 - acc: 0.9586     \n",
      "Epoch 82/100\n",
      "8000/8000 [==============================] - 0s - loss: 0.1776 - acc: 0.9589     \n",
      "Epoch 83/100\n",
      "8000/8000 [==============================] - 0s - loss: 0.1769 - acc: 0.9590     \n",
      "Epoch 84/100\n",
      "8000/8000 [==============================] - 0s - loss: 0.1761 - acc: 0.9594     \n",
      "Epoch 85/100\n",
      "8000/8000 [==============================] - 0s - loss: 0.1751 - acc: 0.9595     \n",
      "Epoch 86/100\n",
      "8000/8000 [==============================] - 0s - loss: 0.1743 - acc: 0.9597     \n",
      "Epoch 87/100\n",
      "8000/8000 [==============================] - 0s - loss: 0.1734 - acc: 0.9601     \n",
      "Epoch 88/100\n",
      "8000/8000 [==============================] - 0s - loss: 0.1727 - acc: 0.9605     \n",
      "Epoch 89/100\n",
      "8000/8000 [==============================] - 0s - loss: 0.1720 - acc: 0.9607     \n",
      "Epoch 90/100\n",
      "8000/8000 [==============================] - 0s - loss: 0.1711 - acc: 0.9606     \n",
      "Epoch 91/100\n",
      "8000/8000 [==============================] - 0s - loss: 0.1703 - acc: 0.9611     \n",
      "Epoch 92/100\n",
      "8000/8000 [==============================] - 0s - loss: 0.1693 - acc: 0.9612     \n",
      "Epoch 93/100\n",
      "8000/8000 [==============================] - 0s - loss: 0.1685 - acc: 0.9613     \n",
      "Epoch 94/100\n",
      "8000/8000 [==============================] - 0s - loss: 0.1677 - acc: 0.9615     \n",
      "Epoch 95/100\n",
      "8000/8000 [==============================] - 0s - loss: 0.1670 - acc: 0.9617     \n",
      "Epoch 96/100\n",
      "8000/8000 [==============================] - 0s - loss: 0.1663 - acc: 0.9620     \n",
      "Epoch 97/100\n",
      "8000/8000 [==============================] - 0s - loss: 0.1657 - acc: 0.9619     \n",
      "Epoch 98/100\n",
      "8000/8000 [==============================] - 0s - loss: 0.1648 - acc: 0.9624     \n",
      "Epoch 99/100\n",
      "8000/8000 [==============================] - 0s - loss: 0.1641 - acc: 0.9624     \n",
      "Epoch 100/100\n",
      "8000/8000 [==============================] - 0s - loss: 0.1633 - acc: 0.9621     \n"
     ]
    },
    {
     "data": {
      "text/plain": [
       "<keras.callbacks.History at 0x11ab1dc18>"
      ]
     },
     "execution_count": 25,
     "metadata": {},
     "output_type": "execute_result"
    }
   ],
   "source": [
    "epochs = 100\n",
    "batch_size = 200\n",
    "\n",
    "model.fit(X_train, Y_train, epochs=epochs, batch_size=batch_size)"
   ]
  },
  {
   "cell_type": "code",
   "execution_count": 26,
   "metadata": {
    "collapsed": false
   },
   "outputs": [
    {
     "name": "stdout",
     "output_type": "stream",
     "text": [
      "1824/2000 [==========================>...] - ETA: 0s[0.33244394052028658, 0.89649999999999996]\n"
     ]
    }
   ],
   "source": [
    "loss_and_metrics = model.evaluate(X_test, Y_test)\n",
    "print(loss_and_metrics)"
   ]
  },
  {
   "cell_type": "code",
   "execution_count": 27,
   "metadata": {
    "collapsed": true
   },
   "outputs": [],
   "source": [
    "#↑↓model.evaluate(X_test, Y_test)で最終的なコスト関数の値と正解率がテストデータで見ることができる"
   ]
  },
  {
   "cell_type": "code",
   "execution_count": 28,
   "metadata": {
    "collapsed": false
   },
   "outputs": [
    {
     "name": "stdout",
     "output_type": "stream",
     "text": [
      "コスト関数の値:0.3324439405202866\n"
     ]
    }
   ],
   "source": [
    "print(\"コスト関数の値:{}\".format(loss_and_metrics[0]))"
   ]
  },
  {
   "cell_type": "code",
   "execution_count": 29,
   "metadata": {
    "collapsed": false
   },
   "outputs": [
    {
     "name": "stdout",
     "output_type": "stream",
     "text": [
      "正答率:89.64999999999999%\n"
     ]
    }
   ],
   "source": [
    "print(\"正答率:{}%\".format(loss_and_metrics[1]*100))"
   ]
  },
  {
   "cell_type": "code",
   "execution_count": null,
   "metadata": {
    "collapsed": true
   },
   "outputs": [],
   "source": []
  }
 ],
 "metadata": {
  "kernelspec": {
   "display_name": "Python 3",
   "language": "python",
   "name": "python3"
  },
  "language_info": {
   "codemirror_mode": {
    "name": "ipython",
    "version": 3
   },
   "file_extension": ".py",
   "mimetype": "text/x-python",
   "name": "python",
   "nbconvert_exporter": "python",
   "pygments_lexer": "ipython3",
   "version": "3.5.2"
  }
 },
 "nbformat": 4,
 "nbformat_minor": 1
}
