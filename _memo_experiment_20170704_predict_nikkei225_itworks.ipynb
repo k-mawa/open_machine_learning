{
 "cells": [
  {
   "cell_type": "code",
   "execution_count": 43,
   "metadata": {
    "collapsed": true
   },
   "outputs": [],
   "source": [
    "import numpy as np\n",
    "from sklearn.model_selection import train_test_split"
   ]
  },
  {
   "cell_type": "code",
   "execution_count": 44,
   "metadata": {
    "collapsed": true
   },
   "outputs": [],
   "source": [
    "import pandas as pd"
   ]
  },
  {
   "cell_type": "code",
   "execution_count": 45,
   "metadata": {
    "collapsed": false
   },
   "outputs": [
    {
     "data": {
      "text/html": [
       "<div>\n",
       "<table border=\"1\" class=\"dataframe\">\n",
       "  <thead>\n",
       "    <tr style=\"text-align: right;\">\n",
       "      <th></th>\n",
       "      <th>0</th>\n",
       "      <th>1</th>\n",
       "      <th>2</th>\n",
       "      <th>3</th>\n",
       "      <th>4</th>\n",
       "      <th>5</th>\n",
       "      <th>6</th>\n",
       "      <th>7</th>\n",
       "    </tr>\n",
       "  </thead>\n",
       "  <tbody>\n",
       "    <tr>\n",
       "      <th>0</th>\n",
       "      <td>117.90</td>\n",
       "      <td>4.4</td>\n",
       "      <td>526879.7</td>\n",
       "      <td>97.16</td>\n",
       "      <td>81.4</td>\n",
       "      <td>49.1</td>\n",
       "      <td>46.1</td>\n",
       "      <td>16361.54</td>\n",
       "    </tr>\n",
       "    <tr>\n",
       "      <th>1</th>\n",
       "      <td>119.04</td>\n",
       "      <td>4.0</td>\n",
       "      <td>531688.3</td>\n",
       "      <td>97.22</td>\n",
       "      <td>81.8</td>\n",
       "      <td>51.0</td>\n",
       "      <td>51.1</td>\n",
       "      <td>17353.67</td>\n",
       "    </tr>\n",
       "    <tr>\n",
       "      <th>2</th>\n",
       "      <td>111.69</td>\n",
       "      <td>3.9</td>\n",
       "      <td>520715.8</td>\n",
       "      <td>98.57</td>\n",
       "      <td>84.7</td>\n",
       "      <td>44.3</td>\n",
       "      <td>57.5</td>\n",
       "      <td>14691.41</td>\n",
       "    </tr>\n",
       "    <tr>\n",
       "      <th>3</th>\n",
       "      <td>90.69</td>\n",
       "      <td>4.3</td>\n",
       "      <td>489501.1</td>\n",
       "      <td>97.23</td>\n",
       "      <td>101.0</td>\n",
       "      <td>38.7</td>\n",
       "      <td>52.5</td>\n",
       "      <td>9043.12</td>\n",
       "    </tr>\n",
       "    <tr>\n",
       "      <th>4</th>\n",
       "      <td>92.97</td>\n",
       "      <td>5.0</td>\n",
       "      <td>500354.0</td>\n",
       "      <td>96.53</td>\n",
       "      <td>95.3</td>\n",
       "      <td>41.5</td>\n",
       "      <td>48.6</td>\n",
       "      <td>10654.79</td>\n",
       "    </tr>\n",
       "    <tr>\n",
       "      <th>5</th>\n",
       "      <td>81.18</td>\n",
       "      <td>4.8</td>\n",
       "      <td>491408.5</td>\n",
       "      <td>96.27</td>\n",
       "      <td>100.7</td>\n",
       "      <td>42.8</td>\n",
       "      <td>47.4</td>\n",
       "      <td>10398.10</td>\n",
       "    </tr>\n",
       "    <tr>\n",
       "      <th>6</th>\n",
       "      <td>76.93</td>\n",
       "      <td>4.5</td>\n",
       "      <td>494957.2</td>\n",
       "      <td>96.22</td>\n",
       "      <td>97.1</td>\n",
       "      <td>43.9</td>\n",
       "      <td>46.7</td>\n",
       "      <td>8560.11</td>\n",
       "    </tr>\n",
       "    <tr>\n",
       "      <th>7</th>\n",
       "      <td>86.72</td>\n",
       "      <td>4.2</td>\n",
       "      <td>503175.5</td>\n",
       "      <td>96.55</td>\n",
       "      <td>100.2</td>\n",
       "      <td>47.0</td>\n",
       "      <td>47.0</td>\n",
       "      <td>10688.11</td>\n",
       "    </tr>\n",
       "    <tr>\n",
       "      <th>8</th>\n",
       "      <td>105.28</td>\n",
       "      <td>3.7</td>\n",
       "      <td>513698.0</td>\n",
       "      <td>99.21</td>\n",
       "      <td>98.8</td>\n",
       "      <td>54.0</td>\n",
       "      <td>47.7</td>\n",
       "      <td>15908.88</td>\n",
       "    </tr>\n",
       "    <tr>\n",
       "      <th>9</th>\n",
       "      <td>119.67</td>\n",
       "      <td>3.5</td>\n",
       "      <td>530465.7</td>\n",
       "      <td>100.00</td>\n",
       "      <td>98.2</td>\n",
       "      <td>56.3</td>\n",
       "      <td>49.1</td>\n",
       "      <td>17408.71</td>\n",
       "    </tr>\n",
       "    <tr>\n",
       "      <th>10</th>\n",
       "      <td>120.30</td>\n",
       "      <td>3.2</td>\n",
       "      <td>537289.4</td>\n",
       "      <td>99.88</td>\n",
       "      <td>100.2</td>\n",
       "      <td>55.9</td>\n",
       "      <td>52.4</td>\n",
       "      <td>18450.98</td>\n",
       "    </tr>\n",
       "  </tbody>\n",
       "</table>\n",
       "</div>"
      ],
      "text/plain": [
       "         0    1         2       3      4     5     6         7\n",
       "0   117.90  4.4  526879.7   97.16   81.4  49.1  46.1  16361.54\n",
       "1   119.04  4.0  531688.3   97.22   81.8  51.0  51.1  17353.67\n",
       "2   111.69  3.9  520715.8   98.57   84.7  44.3  57.5  14691.41\n",
       "3    90.69  4.3  489501.1   97.23  101.0  38.7  52.5   9043.12\n",
       "4    92.97  5.0  500354.0   96.53   95.3  41.5  48.6  10654.79\n",
       "5    81.18  4.8  491408.5   96.27  100.7  42.8  47.4  10398.10\n",
       "6    76.93  4.5  494957.2   96.22   97.1  43.9  46.7   8560.11\n",
       "7    86.72  4.2  503175.5   96.55  100.2  47.0  47.0  10688.11\n",
       "8   105.28  3.7  513698.0   99.21   98.8  54.0  47.7  15908.88\n",
       "9   119.67  3.5  530465.7  100.00   98.2  56.3  49.1  17408.71\n",
       "10  120.30  3.2  537289.4   99.88  100.2  55.9  52.4  18450.98"
      ]
     },
     "execution_count": 45,
     "metadata": {},
     "output_type": "execute_result"
    }
   ],
   "source": [
    "data = pd.read_csv(\"test/test_data_to_predictnikkei225.csv\", header=None)\n",
    "data"
   ]
  },
  {
   "cell_type": "code",
   "execution_count": 46,
   "metadata": {
    "collapsed": true
   },
   "outputs": [],
   "source": [
    "X = data.iloc[:,0:7]"
   ]
  },
  {
   "cell_type": "code",
   "execution_count": 47,
   "metadata": {
    "collapsed": false
   },
   "outputs": [
    {
     "data": {
      "text/html": [
       "<div>\n",
       "<table border=\"1\" class=\"dataframe\">\n",
       "  <thead>\n",
       "    <tr style=\"text-align: right;\">\n",
       "      <th></th>\n",
       "      <th>0</th>\n",
       "      <th>1</th>\n",
       "      <th>2</th>\n",
       "      <th>3</th>\n",
       "      <th>4</th>\n",
       "      <th>5</th>\n",
       "      <th>6</th>\n",
       "    </tr>\n",
       "  </thead>\n",
       "  <tbody>\n",
       "    <tr>\n",
       "      <th>0</th>\n",
       "      <td>117.90</td>\n",
       "      <td>4.4</td>\n",
       "      <td>526879.7</td>\n",
       "      <td>97.16</td>\n",
       "      <td>81.4</td>\n",
       "      <td>49.1</td>\n",
       "      <td>46.1</td>\n",
       "    </tr>\n",
       "    <tr>\n",
       "      <th>1</th>\n",
       "      <td>119.04</td>\n",
       "      <td>4.0</td>\n",
       "      <td>531688.3</td>\n",
       "      <td>97.22</td>\n",
       "      <td>81.8</td>\n",
       "      <td>51.0</td>\n",
       "      <td>51.1</td>\n",
       "    </tr>\n",
       "    <tr>\n",
       "      <th>2</th>\n",
       "      <td>111.69</td>\n",
       "      <td>3.9</td>\n",
       "      <td>520715.8</td>\n",
       "      <td>98.57</td>\n",
       "      <td>84.7</td>\n",
       "      <td>44.3</td>\n",
       "      <td>57.5</td>\n",
       "    </tr>\n",
       "    <tr>\n",
       "      <th>3</th>\n",
       "      <td>90.69</td>\n",
       "      <td>4.3</td>\n",
       "      <td>489501.1</td>\n",
       "      <td>97.23</td>\n",
       "      <td>101.0</td>\n",
       "      <td>38.7</td>\n",
       "      <td>52.5</td>\n",
       "    </tr>\n",
       "    <tr>\n",
       "      <th>4</th>\n",
       "      <td>92.97</td>\n",
       "      <td>5.0</td>\n",
       "      <td>500354.0</td>\n",
       "      <td>96.53</td>\n",
       "      <td>95.3</td>\n",
       "      <td>41.5</td>\n",
       "      <td>48.6</td>\n",
       "    </tr>\n",
       "    <tr>\n",
       "      <th>5</th>\n",
       "      <td>81.18</td>\n",
       "      <td>4.8</td>\n",
       "      <td>491408.5</td>\n",
       "      <td>96.27</td>\n",
       "      <td>100.7</td>\n",
       "      <td>42.8</td>\n",
       "      <td>47.4</td>\n",
       "    </tr>\n",
       "    <tr>\n",
       "      <th>6</th>\n",
       "      <td>76.93</td>\n",
       "      <td>4.5</td>\n",
       "      <td>494957.2</td>\n",
       "      <td>96.22</td>\n",
       "      <td>97.1</td>\n",
       "      <td>43.9</td>\n",
       "      <td>46.7</td>\n",
       "    </tr>\n",
       "    <tr>\n",
       "      <th>7</th>\n",
       "      <td>86.72</td>\n",
       "      <td>4.2</td>\n",
       "      <td>503175.5</td>\n",
       "      <td>96.55</td>\n",
       "      <td>100.2</td>\n",
       "      <td>47.0</td>\n",
       "      <td>47.0</td>\n",
       "    </tr>\n",
       "    <tr>\n",
       "      <th>8</th>\n",
       "      <td>105.28</td>\n",
       "      <td>3.7</td>\n",
       "      <td>513698.0</td>\n",
       "      <td>99.21</td>\n",
       "      <td>98.8</td>\n",
       "      <td>54.0</td>\n",
       "      <td>47.7</td>\n",
       "    </tr>\n",
       "    <tr>\n",
       "      <th>9</th>\n",
       "      <td>119.67</td>\n",
       "      <td>3.5</td>\n",
       "      <td>530465.7</td>\n",
       "      <td>100.00</td>\n",
       "      <td>98.2</td>\n",
       "      <td>56.3</td>\n",
       "      <td>49.1</td>\n",
       "    </tr>\n",
       "    <tr>\n",
       "      <th>10</th>\n",
       "      <td>120.30</td>\n",
       "      <td>3.2</td>\n",
       "      <td>537289.4</td>\n",
       "      <td>99.88</td>\n",
       "      <td>100.2</td>\n",
       "      <td>55.9</td>\n",
       "      <td>52.4</td>\n",
       "    </tr>\n",
       "  </tbody>\n",
       "</table>\n",
       "</div>"
      ],
      "text/plain": [
       "         0    1         2       3      4     5     6\n",
       "0   117.90  4.4  526879.7   97.16   81.4  49.1  46.1\n",
       "1   119.04  4.0  531688.3   97.22   81.8  51.0  51.1\n",
       "2   111.69  3.9  520715.8   98.57   84.7  44.3  57.5\n",
       "3    90.69  4.3  489501.1   97.23  101.0  38.7  52.5\n",
       "4    92.97  5.0  500354.0   96.53   95.3  41.5  48.6\n",
       "5    81.18  4.8  491408.5   96.27  100.7  42.8  47.4\n",
       "6    76.93  4.5  494957.2   96.22   97.1  43.9  46.7\n",
       "7    86.72  4.2  503175.5   96.55  100.2  47.0  47.0\n",
       "8   105.28  3.7  513698.0   99.21   98.8  54.0  47.7\n",
       "9   119.67  3.5  530465.7  100.00   98.2  56.3  49.1\n",
       "10  120.30  3.2  537289.4   99.88  100.2  55.9  52.4"
      ]
     },
     "execution_count": 47,
     "metadata": {},
     "output_type": "execute_result"
    }
   ],
   "source": [
    "X"
   ]
  },
  {
   "cell_type": "code",
   "execution_count": 48,
   "metadata": {
    "collapsed": false
   },
   "outputs": [
    {
     "data": {
      "text/plain": [
       "array([[  1.17900000e+02,   4.40000000e+00,   5.26879700e+05,\n",
       "          9.71600000e+01,   8.14000000e+01,   4.91000000e+01,\n",
       "          4.61000000e+01],\n",
       "       [  1.19040000e+02,   4.00000000e+00,   5.31688300e+05,\n",
       "          9.72200000e+01,   8.18000000e+01,   5.10000000e+01,\n",
       "          5.11000000e+01],\n",
       "       [  1.11690000e+02,   3.90000000e+00,   5.20715800e+05,\n",
       "          9.85700000e+01,   8.47000000e+01,   4.43000000e+01,\n",
       "          5.75000000e+01],\n",
       "       [  9.06900000e+01,   4.30000000e+00,   4.89501100e+05,\n",
       "          9.72300000e+01,   1.01000000e+02,   3.87000000e+01,\n",
       "          5.25000000e+01],\n",
       "       [  9.29700000e+01,   5.00000000e+00,   5.00354000e+05,\n",
       "          9.65300000e+01,   9.53000000e+01,   4.15000000e+01,\n",
       "          4.86000000e+01],\n",
       "       [  8.11800000e+01,   4.80000000e+00,   4.91408500e+05,\n",
       "          9.62700000e+01,   1.00700000e+02,   4.28000000e+01,\n",
       "          4.74000000e+01],\n",
       "       [  7.69300000e+01,   4.50000000e+00,   4.94957200e+05,\n",
       "          9.62200000e+01,   9.71000000e+01,   4.39000000e+01,\n",
       "          4.67000000e+01],\n",
       "       [  8.67200000e+01,   4.20000000e+00,   5.03175500e+05,\n",
       "          9.65500000e+01,   1.00200000e+02,   4.70000000e+01,\n",
       "          4.70000000e+01],\n",
       "       [  1.05280000e+02,   3.70000000e+00,   5.13698000e+05,\n",
       "          9.92100000e+01,   9.88000000e+01,   5.40000000e+01,\n",
       "          4.77000000e+01],\n",
       "       [  1.19670000e+02,   3.50000000e+00,   5.30465700e+05,\n",
       "          1.00000000e+02,   9.82000000e+01,   5.63000000e+01,\n",
       "          4.91000000e+01],\n",
       "       [  1.20300000e+02,   3.20000000e+00,   5.37289400e+05,\n",
       "          9.98800000e+01,   1.00200000e+02,   5.59000000e+01,\n",
       "          5.24000000e+01]])"
      ]
     },
     "execution_count": 48,
     "metadata": {},
     "output_type": "execute_result"
    }
   ],
   "source": [
    "X = X.values\n",
    "X"
   ]
  },
  {
   "cell_type": "code",
   "execution_count": 49,
   "metadata": {
    "collapsed": true
   },
   "outputs": [],
   "source": [
    "from sklearn import preprocessing\n",
    "# normalize data\n",
    "X = preprocessing.scale(X)"
   ]
  },
  {
   "cell_type": "code",
   "execution_count": 50,
   "metadata": {
    "collapsed": false
   },
   "outputs": [
    {
     "data": {
      "text/plain": [
       "array([[ 0.99450445,  0.50775712,  0.84278114, -0.40246424, -1.75192335,\n",
       "         0.24664409, -1.08246504],\n",
       "       [ 1.06595971, -0.26263299,  1.12937988, -0.35877569, -1.69839236,\n",
       "         0.57708393,  0.44408822],\n",
       "       [ 0.60526135, -0.45523052,  0.47540477,  0.62421674, -1.31029267,\n",
       "        -0.5881513 ,  2.39807639],\n",
       "       [-0.71101968,  0.31515959, -1.38503146, -0.35149426,  0.87109522,\n",
       "        -1.56207925,  0.87152313],\n",
       "       [-0.56810917,  1.66334228, -0.73818467, -0.86119404,  0.1082786 ,\n",
       "        -1.07511527, -0.31918841],\n",
       "       [-1.30710695,  1.27814723, -1.27134797, -1.0505111 ,  0.83094698,\n",
       "        -0.84902486, -0.68556119],\n",
       "       [-1.57349716,  0.70035464, -1.05984089, -1.08691823,  0.34916806,\n",
       "        -0.65771758, -0.89927865],\n",
       "       [-0.95985948,  0.12256206, -0.57001965, -0.84663119,  0.76403324,\n",
       "        -0.11857889, -0.80768545],\n",
       "       [ 0.20348223, -0.84042557,  0.05713488,  1.09022797,  0.57667477,\n",
       "         1.09883105, -0.59396799],\n",
       "       [ 1.10544814, -1.22562063,  1.05651134,  1.66546058,  0.49637828,\n",
       "         1.49883718, -0.16653308],\n",
       "       [ 1.14493657, -1.80341321,  1.46321263,  1.57808347,  0.76403324,\n",
       "         1.42927089,  0.84099207]])"
      ]
     },
     "execution_count": 50,
     "metadata": {},
     "output_type": "execute_result"
    }
   ],
   "source": [
    "X"
   ]
  },
  {
   "cell_type": "code",
   "execution_count": 51,
   "metadata": {
    "collapsed": false
   },
   "outputs": [
    {
     "data": {
      "text/plain": [
       "array([ 0.77655362,  1.05480555,  0.3081504 , -1.27596415, -0.82395657,\n",
       "       -0.89594763, -1.41142872, -0.81461167,  0.64960099,  1.07024202,\n",
       "        1.36255617])"
      ]
     },
     "execution_count": 51,
     "metadata": {},
     "output_type": "execute_result"
    }
   ],
   "source": [
    "Y = data.iloc[:,7]\n",
    "Y = Y.values\n",
    "Y = preprocessing.scale(Y)\n",
    "Y"
   ]
  },
  {
   "cell_type": "code",
   "execution_count": 52,
   "metadata": {
    "collapsed": false
   },
   "outputs": [],
   "source": [
    "X_train, X_test, Y_train, Y_test = train_test_split(X, Y, train_size=0.8)"
   ]
  },
  {
   "cell_type": "code",
   "execution_count": 53,
   "metadata": {
    "collapsed": false
   },
   "outputs": [
    {
     "name": "stdout",
     "output_type": "stream",
     "text": [
      "X_train:(8, 7)\n",
      "X_test:(3, 7)\n",
      "Y_train:(8,)\n",
      "Y_test:(3,)\n"
     ]
    }
   ],
   "source": [
    "print(\"X_train:{}\".format(X_train.shape))\n",
    "print(\"X_test:{}\".format(X_test.shape))\n",
    "print(\"Y_train:{}\".format(Y_train.shape))\n",
    "print(\"Y_test:{}\".format(Y_test.shape))"
   ]
  },
  {
   "cell_type": "code",
   "execution_count": 54,
   "metadata": {
    "collapsed": false
   },
   "outputs": [],
   "source": [
    "from keras.models import Sequential\n",
    "from keras.layers.core import Dense, Activation, Dropout\n",
    "from keras.layers.advanced_activations import PReLU\n",
    "from keras.optimizers import SGD"
   ]
  },
  {
   "cell_type": "code",
   "execution_count": 55,
   "metadata": {
    "collapsed": true
   },
   "outputs": [],
   "source": [
    "n_in = len(X[0])\n",
    "n_hidden = 200\n",
    "n_out = 1"
   ]
  },
  {
   "cell_type": "code",
   "execution_count": 56,
   "metadata": {
    "collapsed": true
   },
   "outputs": [],
   "source": [
    "model = Sequential()\n",
    "model.add(Dense(n_hidden, input_dim=n_in))\n",
    "model.add(Activation('relu'))\n",
    "model.add(Dropout(0.5))\n",
    "\n",
    "model.add(Dense(n_hidden))\n",
    "model.add(Activation('relu'))\n",
    "model.add(Dropout(0.5))\n",
    "\n",
    "model.add(Dense(n_out))\n",
    "\n",
    "model.compile(optimizer='rmsprop',\n",
    "              loss='mse')"
   ]
  },
  {
   "cell_type": "code",
   "execution_count": 57,
   "metadata": {
    "collapsed": true
   },
   "outputs": [],
   "source": [
    "epochs = 100\n",
    "batch_size = 1"
   ]
  },
  {
   "cell_type": "code",
   "execution_count": 58,
   "metadata": {
    "collapsed": false
   },
   "outputs": [
    {
     "name": "stdout",
     "output_type": "stream",
     "text": [
      "Epoch 1/100\n",
      "8/8 [==============================] - 0s - loss: 1.4314     \n",
      "Epoch 2/100\n",
      "8/8 [==============================] - 0s - loss: 0.6670     \n",
      "Epoch 3/100\n",
      "8/8 [==============================] - 0s - loss: 0.4792     \n",
      "Epoch 4/100\n",
      "8/8 [==============================] - 0s - loss: 0.2536     \n",
      "Epoch 5/100\n",
      "8/8 [==============================] - 0s - loss: 0.2800     \n",
      "Epoch 6/100\n",
      "8/8 [==============================] - 0s - loss: 0.1280     \n",
      "Epoch 7/100\n",
      "8/8 [==============================] - 0s - loss: 0.1344     \n",
      "Epoch 8/100\n",
      "8/8 [==============================] - 0s - loss: 0.1499     \n",
      "Epoch 9/100\n",
      "8/8 [==============================] - 0s - loss: 0.1673     \n",
      "Epoch 10/100\n",
      "8/8 [==============================] - 0s - loss: 0.0649     \n",
      "Epoch 11/100\n",
      "8/8 [==============================] - 0s - loss: 0.1071     \n",
      "Epoch 12/100\n",
      "8/8 [==============================] - 0s - loss: 0.0499     \n",
      "Epoch 13/100\n",
      "8/8 [==============================] - 0s - loss: 0.2408     \n",
      "Epoch 14/100\n",
      "8/8 [==============================] - 0s - loss: 0.1391     \n",
      "Epoch 15/100\n",
      "8/8 [==============================] - 0s - loss: 0.3759     \n",
      "Epoch 16/100\n",
      "8/8 [==============================] - 0s - loss: 0.1596     \n",
      "Epoch 17/100\n",
      "8/8 [==============================] - 0s - loss: 0.1085     \n",
      "Epoch 18/100\n",
      "8/8 [==============================] - 0s - loss: 0.0882     \n",
      "Epoch 19/100\n",
      "8/8 [==============================] - 0s - loss: 0.1530     \n",
      "Epoch 20/100\n",
      "8/8 [==============================] - 0s - loss: 0.1215     \n",
      "Epoch 21/100\n",
      "8/8 [==============================] - 0s - loss: 0.1903     \n",
      "Epoch 22/100\n",
      "8/8 [==============================] - 0s - loss: 0.1533     \n",
      "Epoch 23/100\n",
      "8/8 [==============================] - 0s - loss: 0.0554     \n",
      "Epoch 24/100\n",
      "8/8 [==============================] - 0s - loss: 0.0778     \n",
      "Epoch 25/100\n",
      "8/8 [==============================] - 0s - loss: 0.1710     \n",
      "Epoch 26/100\n",
      "8/8 [==============================] - 0s - loss: 0.0463     \n",
      "Epoch 27/100\n",
      "8/8 [==============================] - 0s - loss: 0.1491     \n",
      "Epoch 28/100\n",
      "8/8 [==============================] - 0s - loss: 0.1493     \n",
      "Epoch 29/100\n",
      "8/8 [==============================] - 0s - loss: 0.0763     \n",
      "Epoch 30/100\n",
      "8/8 [==============================] - 0s - loss: 0.1345     \n",
      "Epoch 31/100\n",
      "8/8 [==============================] - 0s - loss: 0.0718     \n",
      "Epoch 32/100\n",
      "8/8 [==============================] - 0s - loss: 0.0746     \n",
      "Epoch 33/100\n",
      "8/8 [==============================] - 0s - loss: 0.1326     \n",
      "Epoch 34/100\n",
      "8/8 [==============================] - 0s - loss: 0.1082     \n",
      "Epoch 35/100\n",
      "8/8 [==============================] - 0s - loss: 0.1242         \n",
      "Epoch 36/100\n",
      "8/8 [==============================] - 0s - loss: 0.0977     \n",
      "Epoch 37/100\n",
      "8/8 [==============================] - 0s - loss: 0.1393     \n",
      "Epoch 38/100\n",
      "8/8 [==============================] - 0s - loss: 0.1009     \n",
      "Epoch 39/100\n",
      "8/8 [==============================] - 0s - loss: 0.3901     \n",
      "Epoch 40/100\n",
      "8/8 [==============================] - 0s - loss: 0.1230     \n",
      "Epoch 41/100\n",
      "8/8 [==============================] - 0s - loss: 0.1809     \n",
      "Epoch 42/100\n",
      "8/8 [==============================] - 0s - loss: 0.1787     \n",
      "Epoch 43/100\n",
      "8/8 [==============================] - 0s - loss: 0.0573         \n",
      "Epoch 44/100\n",
      "8/8 [==============================] - 0s - loss: 0.0667     \n",
      "Epoch 45/100\n",
      "8/8 [==============================] - 0s - loss: 0.0513         \n",
      "Epoch 46/100\n",
      "8/8 [==============================] - 0s - loss: 0.0714     \n",
      "Epoch 47/100\n",
      "8/8 [==============================] - 0s - loss: 0.1320     \n",
      "Epoch 48/100\n",
      "8/8 [==============================] - 0s - loss: 0.0885         \n",
      "Epoch 49/100\n",
      "8/8 [==============================] - 0s - loss: 0.0925     \n",
      "Epoch 50/100\n",
      "8/8 [==============================] - 0s - loss: 0.1060     \n",
      "Epoch 51/100\n",
      "8/8 [==============================] - 0s - loss: 0.1109     \n",
      "Epoch 52/100\n",
      "8/8 [==============================] - 0s - loss: 0.2050     \n",
      "Epoch 53/100\n",
      "8/8 [==============================] - 0s - loss: 0.1536     \n",
      "Epoch 54/100\n",
      "8/8 [==============================] - 0s - loss: 0.1853     \n",
      "Epoch 55/100\n",
      "8/8 [==============================] - 0s - loss: 0.0493     \n",
      "Epoch 56/100\n",
      "8/8 [==============================] - 0s - loss: 0.0950     \n",
      "Epoch 57/100\n",
      "8/8 [==============================] - 0s - loss: 0.1128     \n",
      "Epoch 58/100\n",
      "8/8 [==============================] - 0s - loss: 0.1638     \n",
      "Epoch 59/100\n",
      "8/8 [==============================] - 0s - loss: 0.3543     \n",
      "Epoch 60/100\n",
      "8/8 [==============================] - 0s - loss: 0.0638     \n",
      "Epoch 61/100\n",
      "8/8 [==============================] - 0s - loss: 0.0987     \n",
      "Epoch 62/100\n",
      "8/8 [==============================] - 0s - loss: 0.1030     \n",
      "Epoch 63/100\n",
      "8/8 [==============================] - 0s - loss: 0.2489     \n",
      "Epoch 64/100\n",
      "8/8 [==============================] - 0s - loss: 0.0909     \n",
      "Epoch 65/100\n",
      "8/8 [==============================] - 0s - loss: 0.0682     \n",
      "Epoch 66/100\n",
      "8/8 [==============================] - 0s - loss: 0.0896     \n",
      "Epoch 67/100\n",
      "8/8 [==============================] - 0s - loss: 0.0774     \n",
      "Epoch 68/100\n",
      "8/8 [==============================] - 0s - loss: 0.2374     \n",
      "Epoch 69/100\n",
      "8/8 [==============================] - 0s - loss: 0.0508     \n",
      "Epoch 70/100\n",
      "8/8 [==============================] - 0s - loss: 0.1243     \n",
      "Epoch 71/100\n",
      "8/8 [==============================] - 0s - loss: 0.2024     \n",
      "Epoch 72/100\n",
      "8/8 [==============================] - 0s - loss: 0.0502     \n",
      "Epoch 73/100\n",
      "8/8 [==============================] - 0s - loss: 0.0818     \n",
      "Epoch 74/100\n",
      "8/8 [==============================] - 0s - loss: 0.1173     \n",
      "Epoch 75/100\n",
      "8/8 [==============================] - 0s - loss: 0.0957     \n",
      "Epoch 76/100\n",
      "8/8 [==============================] - 0s - loss: 0.0618     \n",
      "Epoch 77/100\n",
      "8/8 [==============================] - 0s - loss: 0.0475     \n",
      "Epoch 78/100\n",
      "8/8 [==============================] - 0s - loss: 0.1415     \n",
      "Epoch 79/100\n",
      "8/8 [==============================] - 0s - loss: 0.0292         \n",
      "Epoch 80/100\n",
      "8/8 [==============================] - 0s - loss: 0.1604     \n",
      "Epoch 81/100\n",
      "8/8 [==============================] - 0s - loss: 0.0885     \n",
      "Epoch 82/100\n",
      "8/8 [==============================] - 0s - loss: 0.0468     \n",
      "Epoch 83/100\n",
      "8/8 [==============================] - 0s - loss: 0.0208     \n",
      "Epoch 84/100\n",
      "8/8 [==============================] - 0s - loss: 0.1493     \n",
      "Epoch 85/100\n",
      "8/8 [==============================] - 0s - loss: 0.0761     \n",
      "Epoch 86/100\n",
      "8/8 [==============================] - 0s - loss: 0.0392     \n",
      "Epoch 87/100\n",
      "8/8 [==============================] - 0s - loss: 0.1320     \n",
      "Epoch 88/100\n",
      "8/8 [==============================] - 0s - loss: 0.1234     \n",
      "Epoch 89/100\n",
      "8/8 [==============================] - 0s - loss: 0.1269     \n",
      "Epoch 90/100\n",
      "8/8 [==============================] - 0s - loss: 0.0865     \n",
      "Epoch 91/100\n",
      "8/8 [==============================] - 0s - loss: 0.0851     \n",
      "Epoch 92/100\n",
      "8/8 [==============================] - 0s - loss: 0.0857     \n",
      "Epoch 93/100\n",
      "8/8 [==============================] - 0s - loss: 0.1159     \n",
      "Epoch 94/100\n",
      "8/8 [==============================] - 0s - loss: 0.0758     \n",
      "Epoch 95/100\n",
      "8/8 [==============================] - 0s - loss: 0.0519     \n",
      "Epoch 96/100\n",
      "8/8 [==============================] - 0s - loss: 0.0670     \n",
      "Epoch 97/100\n",
      "8/8 [==============================] - 0s - loss: 0.0473     \n",
      "Epoch 98/100\n",
      "8/8 [==============================] - 0s - loss: 0.0767     \n",
      "Epoch 99/100\n",
      "8/8 [==============================] - 0s - loss: 0.0302     \n",
      "Epoch 100/100\n",
      "8/8 [==============================] - 0s - loss: 0.0725     \n"
     ]
    },
    {
     "data": {
      "text/plain": [
       "<keras.callbacks.History at 0x11c997940>"
      ]
     },
     "execution_count": 58,
     "metadata": {},
     "output_type": "execute_result"
    }
   ],
   "source": [
    "model.fit(X_train, Y_train, epochs=epochs, batch_size=batch_size)"
   ]
  },
  {
   "cell_type": "code",
   "execution_count": 59,
   "metadata": {
    "collapsed": false
   },
   "outputs": [
    {
     "name": "stdout",
     "output_type": "stream",
     "text": [
      "3/3 [==============================] - 0s\n",
      "コスト関数の値:0.0791059210896492\n"
     ]
    }
   ],
   "source": [
    "loss_and_metrics = model.evaluate(X_test, Y_test)\n",
    "print(\"コスト関数の値:{}\".format(loss_and_metrics))"
   ]
  },
  {
   "cell_type": "code",
   "execution_count": 60,
   "metadata": {
    "collapsed": false
   },
   "outputs": [
    {
     "data": {
      "text/plain": [
       "array([[-1.3597194 ],\n",
       "       [ 1.16693234],\n",
       "       [-0.9374665 ]], dtype=float32)"
      ]
     },
     "execution_count": 60,
     "metadata": {},
     "output_type": "execute_result"
    }
   ],
   "source": [
    "y_pred = model.predict(X_test)\n",
    "y_pred"
   ]
  },
  {
   "cell_type": "code",
   "execution_count": 61,
   "metadata": {
    "collapsed": false
   },
   "outputs": [
    {
     "name": "stdout",
     "output_type": "stream",
     "text": [
      "0       119.04\n",
      "1         4.00\n",
      "2    531688.30\n",
      "3        97.22\n",
      "4        81.80\n",
      "5        51.00\n",
      "6        51.10\n",
      "Name: 1, dtype: float64\n"
     ]
    },
    {
     "data": {
      "text/plain": [
       "array([  1.19040000e+02,   4.00000000e+00,   5.31688300e+05,\n",
       "         9.72200000e+01,   8.18000000e+01,   5.10000000e+01,\n",
       "         5.11000000e+01])"
      ]
     },
     "execution_count": 61,
     "metadata": {},
     "output_type": "execute_result"
    }
   ],
   "source": [
    "Z = data.iloc[1,0:7]\n",
    "print(Z)\n",
    "Z = Z.values\n",
    "Z"
   ]
  },
  {
   "cell_type": "code",
   "execution_count": 62,
   "metadata": {
    "collapsed": false
   },
   "outputs": [],
   "source": [
    "pred = model.predict(Z.reshape(1, 7))"
   ]
  },
  {
   "cell_type": "code",
   "execution_count": 74,
   "metadata": {
    "collapsed": false
   },
   "outputs": [
    {
     "data": {
      "text/plain": [
       "143806.59"
      ]
     },
     "execution_count": 74,
     "metadata": {},
     "output_type": "execute_result"
    }
   ],
   "source": [
    "pred[0][0]"
   ]
  },
  {
   "cell_type": "code",
   "execution_count": 75,
   "metadata": {
    "collapsed": true
   },
   "outputs": [],
   "source": [
    "#為替　80　円/ドル\n",
    "#失業率　5%\n",
    "#GDP　400兆\n",
    "#物価　90\n",
    "#財政出動　50兆\n",
    "#税収　30兆\n",
    "#不動産価格　40　は不況だから、日経平均はどうなるか　実験"
   ]
  },
  {
   "cell_type": "code",
   "execution_count": 77,
   "metadata": {
    "collapsed": true
   },
   "outputs": [],
   "source": [
    "test_resource = np.array([80,5,400000,90,50,30,40])"
   ]
  },
  {
   "cell_type": "code",
   "execution_count": 78,
   "metadata": {
    "collapsed": false
   },
   "outputs": [
    {
     "data": {
      "text/plain": [
       "array([[    80,      5, 400000,     90,     50,     30,     40]])"
      ]
     },
     "execution_count": 78,
     "metadata": {},
     "output_type": "execute_result"
    }
   ],
   "source": [
    "test_resource = test_resource.reshape((1, 7))\n",
    "test_resource"
   ]
  },
  {
   "cell_type": "code",
   "execution_count": 79,
   "metadata": {
    "collapsed": true
   },
   "outputs": [],
   "source": [
    "predtest_1 = model.predict(test_resource)"
   ]
  },
  {
   "cell_type": "code",
   "execution_count": 80,
   "metadata": {
    "collapsed": false
   },
   "outputs": [
    {
     "data": {
      "text/plain": [
       "array([[ 108186.2421875]], dtype=float32)"
      ]
     },
     "execution_count": 80,
     "metadata": {},
     "output_type": "execute_result"
    }
   ],
   "source": [
    "predtest_1"
   ]
  },
  {
   "cell_type": "code",
   "execution_count": 81,
   "metadata": {
    "collapsed": false
   },
   "outputs": [
    {
     "data": {
      "text/plain": [
       "108186.24"
      ]
     },
     "execution_count": 81,
     "metadata": {},
     "output_type": "execute_result"
    }
   ],
   "source": [
    "predtest_1[0][0]"
   ]
  },
  {
   "cell_type": "code",
   "execution_count": 82,
   "metadata": {
    "collapsed": true
   },
   "outputs": [],
   "source": [
    "#↑不況を反映した日経平均予測値になっている！"
   ]
  },
  {
   "cell_type": "code",
   "execution_count": 83,
   "metadata": {
    "collapsed": true
   },
   "outputs": [],
   "source": [
    "#次は、景気がもう少しいい感じの場合"
   ]
  },
  {
   "cell_type": "code",
   "execution_count": 84,
   "metadata": {
    "collapsed": true
   },
   "outputs": [],
   "source": [
    "#為替　120　円/ドル\n",
    "#失業率　2%\n",
    "#GDP　600兆\n",
    "#物価　90\n",
    "#財政出動　50兆\n",
    "#税収　30兆\n",
    "#不動産価格　40　は景気を上向きにしたら日経平均はどうなるか　実験"
   ]
  },
  {
   "cell_type": "code",
   "execution_count": 88,
   "metadata": {
    "collapsed": false
   },
   "outputs": [
    {
     "data": {
      "text/plain": [
       "array([[   120,      2, 600000,     90,     50,     30,     40]])"
      ]
     },
     "execution_count": 88,
     "metadata": {},
     "output_type": "execute_result"
    }
   ],
   "source": [
    "test_resource2 = np.array([120,2,600000,90,50,30,40])\n",
    "test_resource2 = test_resource2.reshape((1, 7))\n",
    "test_resource2"
   ]
  },
  {
   "cell_type": "code",
   "execution_count": 90,
   "metadata": {
    "collapsed": true
   },
   "outputs": [],
   "source": [
    "predtest_2 = model.predict(test_resource2)"
   ]
  },
  {
   "cell_type": "code",
   "execution_count": 91,
   "metadata": {
    "collapsed": false
   },
   "outputs": [
    {
     "data": {
      "text/plain": [
       "162271.72"
      ]
     },
     "execution_count": 91,
     "metadata": {},
     "output_type": "execute_result"
    }
   ],
   "source": [
    "predtest_2[0][0]"
   ]
  },
  {
   "cell_type": "code",
   "execution_count": 92,
   "metadata": {
    "collapsed": true
   },
   "outputs": [],
   "source": [
    "#↑（実態と違うが一応）景気上昇を反映した日経平均予測値になっている！"
   ]
  },
  {
   "cell_type": "code",
   "execution_count": null,
   "metadata": {
    "collapsed": true
   },
   "outputs": [],
   "source": []
  }
 ],
 "metadata": {
  "kernelspec": {
   "display_name": "Python 3",
   "language": "python",
   "name": "python3"
  },
  "language_info": {
   "codemirror_mode": {
    "name": "ipython",
    "version": 3
   },
   "file_extension": ".py",
   "mimetype": "text/x-python",
   "name": "python",
   "nbconvert_exporter": "python",
   "pygments_lexer": "ipython3",
   "version": "3.5.2"
  }
 },
 "nbformat": 4,
 "nbformat_minor": 1
}
